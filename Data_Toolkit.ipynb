{
  "nbformat": 4,
  "nbformat_minor": 0,
  "metadata": {
    "colab": {
      "provenance": []
    },
    "kernelspec": {
      "name": "python3",
      "display_name": "Python 3"
    },
    "language_info": {
      "name": "python"
    }
  },
  "cells": [
    {
      "cell_type": "markdown",
      "source": [
        "# **THEORETICAL QUESTIONS**"
      ],
      "metadata": {
        "id": "mXc3n7oFn9af"
      }
    },
    {
      "cell_type": "markdown",
      "source": [
        "**Q1) What is NumPy, and why is it widely used in Python?**"
      ],
      "metadata": {
        "id": "6RlvQe02qvLJ"
      }
    },
    {
      "cell_type": "markdown",
      "source": [
        "- NumPy stands for Numerical Python, is a fundamental open-source library in Python for scientific computing. It provides support for large, multi-dimensional arrays and matrices, along with a collection of high-level mathematical functions to operate on these arrays efficiently.\n",
        "It provides:\n",
        " - A high-performance multidimensional array object.\n",
        " - Tools for performing mathematical operations on arrays.\n",
        " - Support for linear algebra and random number generation.\n",
        "- Here are the key reasons for NumPy's popularity:\n",
        " - Efficient Array Computation: NumPy's ndarray is faster and more memory-efficient than Python’s built-in lists.\n",
        " - Broad Functionality: Supports a wide range of mathematical, statistical, and logical operations.\n",
        " - Broadcasting Capabilities: Automatically expands smaller arrays to match larger ones in operations, reducing code complexity.\n",
        " - Foundation for Other Libraries: NumPy serves as the foundation for many other popular Python libraries in the scientific computing ecosystem, such as Pandas for data manipulation and Matplotlib for plotting and visualization."
      ],
      "metadata": {
        "id": "jvBadWXaD31C"
      }
    },
    {
      "cell_type": "markdown",
      "source": [
        "**Q2) How does broadcasting work in NumPy?**"
      ],
      "metadata": {
        "id": "lIc0ePZHVd_O"
      }
    },
    {
      "cell_type": "markdown",
      "source": [
        "- Broadcasting in NumPy is a powerful mechanism that allows arrays of different shapes to be used together in arithmetic operations without explicit looping or reshaping. It automatically expands smaller arrays to match the shape of larger ones during computation.\n",
        "- NumPy applies a set of rules to determine if two arrays are compatible for broadcasting and how the operation should proceed:\n",
        "  - If the arrays have different numbers of dimensions, the array with fewer dimensions is \"padded\" with ones on its leading (left) side until both arrays have the same number of dimensions.\n",
        "  - If a dimension's size is 1 in one array and a different size in the other, the array with the dimension of size 1 is \"stretched\" or effectively duplicated along that dimension to match the size of the other array.\n",
        "  - It virtually \"stretches\" or \"broadcasts\" the smaller array without copying data so operations like addition, subtraction, etc., can be performed.\n",
        "  - If, in any dimension, the sizes are different and neither of them is 1, a ValueError is raised, as the arrays are not compatible for broadcasting."
      ],
      "metadata": {
        "id": "g8ZnHf-QIAQG"
      }
    },
    {
      "cell_type": "code",
      "source": [
        "# example 1 of broadcasting\n",
        "\n",
        "import numpy as np\n",
        "a = np.array([1, 2, 3])\n",
        "b = 5\n",
        "print(a + b)   # b is broadcasted as [5,5,5]"
      ],
      "metadata": {
        "colab": {
          "base_uri": "https://localhost:8080/"
        },
        "id": "yiNrjn-zIYvf",
        "outputId": "b52903cc-59be-403b-acf1-f8ad6a5e0b32"
      },
      "execution_count": 2,
      "outputs": [
        {
          "output_type": "stream",
          "name": "stdout",
          "text": [
            "[6 7 8]\n"
          ]
        }
      ]
    },
    {
      "cell_type": "code",
      "source": [
        "# example 2 of broadcasting\n",
        "\n",
        "a = np.ones((3, 4))\n",
        "b = np.array([1, 2, 3, 4])\n",
        "print(a + b)      # b is broadcast across each row of a"
      ],
      "metadata": {
        "colab": {
          "base_uri": "https://localhost:8080/"
        },
        "id": "ogH19YNoJDJt",
        "outputId": "8ccc121d-c1df-4110-ef82-bc64ef0cc1d3"
      },
      "execution_count": 3,
      "outputs": [
        {
          "output_type": "stream",
          "name": "stdout",
          "text": [
            "[[2. 3. 4. 5.]\n",
            " [2. 3. 4. 5.]\n",
            " [2. 3. 4. 5.]]\n"
          ]
        }
      ]
    },
    {
      "cell_type": "markdown",
      "source": [
        "**Q3) What is a Pandas DataFrame?**"
      ],
      "metadata": {
        "id": "NYybiBTfV4lc"
      }
    },
    {
      "cell_type": "markdown",
      "source": [
        "- A Pandas DataFrame is a two-dimensional, tabular data structure in the Pandas library, which is widely used for data manipulation and analysis in Python. The data is arranged in rows and columns. It’s one of the most commonly used tools for handling data and makes it easy to organize, analyze and manipulate data. It can store different types of data such as numbers, text and dates across its columns. When we use pandas DataFrame, you can import data in various formats and from various sources. Both rows (index) and columns have labels, allowing for easy access and manipulation of data by name. DataFrames can be modified after creation, rows and columns can be added or removed."
      ],
      "metadata": {
        "id": "sznuKMZAWCVe"
      }
    },
    {
      "cell_type": "code",
      "source": [
        "# Creating a pandas dataframe\n",
        "import pandas as pd\n",
        "\n",
        "data = {\n",
        "    'Name': ['Adarsh', 'Balu', 'Simon'],\n",
        "    'Age': [25, 30, 35],\n",
        "    'City': ['Delhi', 'Mumbai', 'Chennai']\n",
        "}\n",
        "\n",
        "df = pd.DataFrame(data)\n",
        "\n",
        "print(df)"
      ],
      "metadata": {
        "colab": {
          "base_uri": "https://localhost:8080/"
        },
        "id": "nnnR0FR5YRWz",
        "outputId": "944558c4-0753-4603-87b1-8936f1ff73ff"
      },
      "execution_count": null,
      "outputs": [
        {
          "output_type": "stream",
          "name": "stdout",
          "text": [
            "     Name  Age     City\n",
            "0  Adarsh   25    Delhi\n",
            "1    Balu   30   Mumbai\n",
            "2   Simon   35  Chennai\n"
          ]
        }
      ]
    },
    {
      "cell_type": "markdown",
      "source": [
        "**Q4) Explain the use of the groupby() method in Pandas.**"
      ],
      "metadata": {
        "id": "-Z7IQ-IlYoC5"
      }
    },
    {
      "cell_type": "markdown",
      "source": [
        "- The groupby() method in Pandas is used to split the data into groups based on the values in one or more columns, and then apply a function to each group. This is similar to GROUP BY in SQL. The groupby() method first divides the DataFrame into subsets (groups) based on the unique values in the specified column or columns. After splitting, a function is applied to each of these independent groups. Finally, the results from applying the function to each group are combined back into a single DataFrame or Series, depending on the operation performed."
      ],
      "metadata": {
        "id": "H2IpBGL9Y3Ly"
      }
    },
    {
      "cell_type": "code",
      "source": [
        "# Use of groupby() method\n",
        "import pandas as pd\n",
        "\n",
        "data = {\n",
        "    'Department': ['HR', 'IT', 'HR', 'IT', 'Sales', 'Sales'],\n",
        "    'Employee': ['Adarsh', 'Balu', 'Chetan', 'Dhiraj', 'Eleven', 'Faf'],\n",
        "    'Salary': [50000, 60000, 55000, 65000, 70000, 72000]\n",
        "}\n",
        "\n",
        "df = pd.DataFrame(data)\n",
        "\n",
        "# Group by Department and calculate average salary\n",
        "grouped = df.groupby('Department')['Salary'].mean()\n",
        "\n",
        "print(grouped)"
      ],
      "metadata": {
        "colab": {
          "base_uri": "https://localhost:8080/"
        },
        "id": "vtMbcA0VZgLR",
        "outputId": "6f118009-500d-4859-a06f-b9a6537a7ffd"
      },
      "execution_count": null,
      "outputs": [
        {
          "output_type": "stream",
          "name": "stdout",
          "text": [
            "Department\n",
            "HR       52500.0\n",
            "IT       62500.0\n",
            "Sales    71000.0\n",
            "Name: Salary, dtype: float64\n"
          ]
        }
      ]
    },
    {
      "cell_type": "markdown",
      "source": [
        "**Q5) Why is Seaborn preferred for statistical visualizations?**"
      ],
      "metadata": {
        "id": "55yZTfRzZ7dY"
      }
    },
    {
      "cell_type": "markdown",
      "source": [
        "- Seaborn is a powerful Python data visualization library based on Matplotlib, but with a higher-level interface focused on statistical graphics. Seaborn is often preferred for statistical visualizations in Python due to several reasons:\n",
        " - High-Level Interface for Statistical Graphics: Seaborn provides a high-level interface built on Matplotlib, offering specialized functions for common statistical plots like distribution plots, relational plots, categorical plots, and regression plots.\n",
        " - Aesthetic Appeal and Built-in Themes: Seaborn comes with attractive default themes, color palettes, and layouts. Visualizations are aesthetically more appealing than raw Matplotlib charts.\n",
        " - Seamless Integration with Pandas DataFrames: Seaborn works seamlessly with Pandas DataFrames. Column names can be passed directly, reducing boilerplate code.\n",
        " - Exploratory Data Analysis: Its ease of use and ability to quickly generate various statistical plots make Seaborn an excellent tool for exploratory data analysis, helping users understand data distributions, relationships, and potential outliers.\n",
        " - Built-in Support for Statistical Plots: Seaborn includes high-level functions for complex statistical visualizations like distribution plots, violin plots, barplots and heatmaps etc."
      ],
      "metadata": {
        "id": "wCp5t3lGaQnG"
      }
    },
    {
      "cell_type": "markdown",
      "source": [
        "**Q6) What are the differences between NumPy arrays and Python lists?**"
      ],
      "metadata": {
        "id": "9QijbjvZbIEU"
      }
    },
    {
      "cell_type": "markdown",
      "source": [
        "- NumPy arrays and Python lists are both used to store collections of data, but they differ significantly in their characteristics and intended use cases.\n",
        "  - NumPy arrays are homogeneous, meaning all elements within an array must be of the same data type. Python lists are heterogeneous, allowing elements of different data types within the same list.\n",
        "  - NumPy arrays are faster due to underlying implementation in C and vectorized operations, whereas lists are slower because operations require looping through elements in Python.\n",
        "  - NumPy arrays are significantly more efficient in terms of memory usage. Python lists, while flexible, are less memory-efficient and slower for numerical computations due to their scattered memory allocation and dynamic typing.\n",
        "  - NumPy arrays supports broadcasting. Python lists has no broadcasting support.\n",
        "  - NumPy arrays provide robust support for multi-dimensional arrays, making them ideal for representing matrices, images, and other structured data. While Python lists can be nested to simulate multi-dimensional structures, NumPy's array operations are far more efficient and intuitive for such data.\n",
        "  - NumPy arrays comes with many built-in functions. Python lists lacks such tools."
      ],
      "metadata": {
        "id": "tpx2ZrOXbptJ"
      }
    },
    {
      "cell_type": "markdown",
      "source": [
        "**Q7) What is a heatmap, and when should it be used?**"
      ],
      "metadata": {
        "id": "SeohZQuadCda"
      }
    },
    {
      "cell_type": "markdown",
      "source": [
        "- A heatmap is a data visualization technique that uses color to represent the magnitude of values in a matrix or table. It makes patterns, correlations, and anomalies in data easier to detect by visually encoding numeric values with color gradients. A heatmap is a visual representation of data where values are depicted using a color scale, making it easy to spot patterns and trends in the data.\n",
        "- Heatmaps use color variations to represent different values. Darker colors usually indicate higher values or densities, while lighter colors represent lower values.\n",
        "- By observing color patterns, we can quickly identify correlations, clusters, and outliers in the data.\n",
        "- A heat map chart is ideal when you need to analyze and compare complex data sets across multiple variables. It’s particularly useful in the following scenarios:\n",
        "  - Identifying Patterns or Trends: When you want to quickly spot correlations, patterns, or anomalies in your data.\n",
        "  - Comparing Data Across Categories: If you have a matrix of data that compares categories, such as sales figures across different regions and time periods.\n",
        "  - Highlighting Highs and Lows: Heat maps make it easy to identify peaks and valleys in data, such as high customer engagement areas on a website or regions with high sales performance.\n",
        "  - Visualizing Large Datasets: When dealing with large amounts of data, a heat map chart can condense the information into a more digestible format, allowing for faster insights."
      ],
      "metadata": {
        "id": "i_mmEb6iHJV-"
      }
    },
    {
      "cell_type": "code",
      "source": [
        "# A sample heatmap\n",
        "\n",
        "import pandas as pd\n",
        "import seaborn as sns\n",
        "import matplotlib.pyplot as plt\n",
        "\n",
        "data = {\n",
        "    'Sam': [85, 90, 78, 92, 100],\n",
        "    'Neha': [89, 94, 72, 91, 92],\n",
        "    'Adarsh': [92, 91, 88, 90, 98],\n",
        "    'Balu' : [82, 99, 98, 97, 100]\n",
        "}\n",
        "df = pd.DataFrame(data)\n",
        "\n",
        "correlation_matrix = df.corr()\n",
        "\n",
        "plt.figure(figsize=(8, 6))\n",
        "sns.heatmap(correlation_matrix, annot=True, cmap='coolwarm', linewidths=1)\n",
        "\n",
        "plt.title(\"Correlation Matrix Heatmap\")\n",
        "plt.show()"
      ],
      "metadata": {
        "colab": {
          "base_uri": "https://localhost:8080/",
          "height": 545
        },
        "id": "LDY3B2xyL3UG",
        "outputId": "0188512e-7a15-4389-d6bd-64f2e51c5b3a"
      },
      "execution_count": 4,
      "outputs": [
        {
          "output_type": "display_data",
          "data": {
            "text/plain": [
              "<Figure size 800x600 with 2 Axes>"
            ],
            "image/png": "[encoded data removed]"
          },
          "metadata": {}
        }
      ]
    },
    {
      "cell_type": "markdown",
      "source": [
        "**Q8) What does the term “vectorized operation” mean in NumPy?**"
      ],
      "metadata": {
        "id": "JtDrON8SdKyY"
      }
    },
    {
      "cell_type": "markdown",
      "source": [
        "- In NumPy, a \"vectorized operation\" refers to the ability to perform element-wise operations on entire arrays without the need for explicit Python for loops. Instead of iterating through each element individually, NumPy leverages highly optimized, pre-compiled C code under the hood to perform these operations in a single, efficient step.\n",
        "- Instead of looping through elements manually, NumPy applies operations to whole arrays at once, leveraging low-level optimizations.\n",
        "- Vectorized operations are significantly faster than traditional Python loops, especially when dealing with large datasets. This is because they bypass the overhead of Python's interpreted nature and execute operations directly in compiled C code.\n",
        "- Common mathematical operations (addition, subtraction, multiplication, division, etc.) and many other functions can be applied directly to entire NumPy arrays, resulting in a new array where the operation has been applied to each corresponding element."
      ],
      "metadata": {
        "id": "p1g9QAOFGz-z"
      }
    },
    {
      "cell_type": "markdown",
      "source": [
        "**Q9) How does Matplotlib differ from Plotly?**"
      ],
      "metadata": {
        "id": "40hCNkzjdP1Z"
      }
    },
    {
      "cell_type": "markdown",
      "source": [
        "- Matplotlib and Plotly are both popular Python libraries for data visualization. But they are quite different in their capabilities.\n",
        "- Matplotlib:\n",
        "  - Primarily designed for creating static, publication-quality plots. While it offers some basic interactivity, its strength lies in generating highly customizable, print-ready figures.\n",
        "  - Basic and customizable, but manual styling often needed.\n",
        "  - Offers extensive customization options, allowing fine-grained control over every aspect of a plot. This flexibility often requires more lines of code and a steeper learning curve for complex customizations.\n",
        "  - Highly customizable using detailed parameters.Good for creating publication-quality plots.\n",
        "- Plotly:\n",
        "  - Plotly's core strength lies in creating interactive, web-based visualizations. Plots generated with Plotly can be zoomed, panned, hovered over to reveal data, and even animated.\n",
        "  - Plotly simplifies the creation of interactive elements, often requiring less code for dynamic features.\n",
        "  - Plotly offers a good degree of customization, but it generally prioritizes ease of use and aesthetics, sometimes at the expense of absolute control.\n",
        "  - Plotly excels at generating interactive HTML files that can be easily embedded in web applications or shared online."
      ],
      "metadata": {
        "id": "csucen19d5ae"
      }
    },
    {
      "cell_type": "markdown",
      "source": [
        "**Q10) What is the significance of hierarchical indexing in Pandas?**"
      ],
      "metadata": {
        "id": "pBnD5tz7Yvik"
      }
    },
    {
      "cell_type": "markdown",
      "source": [
        "- Hierarchical indexing (also known as MultiIndexing) in Pandas allows you to have multiple levels of indexes on a DataFrame or Series. This enables to work with high-dimensional data in a lower-dimensional form, making the data more structured, flexible, and powerful for complex analyses.\n",
        "- Hierarchical indexing allows you to structure data with multiple levels of categorization or grouping. This is crucial for datasets where observations are nested within multiple factors.\n",
        "- By creating a clear hierarchy in your index, the data becomes more organized and easier to understand. This improves the visual presentation of your DataFrame and helps in comprehending the relationships between different data points.\n",
        "- MultiIndex enables powerful and efficient methods for selecting and subsetting data based on one or multiple levels of the hierarchy. You can easily access specific subsets of data by providing values for the index levels, making complex queries more straightforward."
      ],
      "metadata": {
        "id": "zWzZF_D1CBNw"
      }
    },
    {
      "cell_type": "markdown",
      "source": [
        "**Q11) What is the role of Seaborn’s pairplot() function?**\n"
      ],
      "metadata": {
        "id": "vw7DbmhyY3Xi"
      }
    },
    {
      "cell_type": "markdown",
      "source": [
        "- The pairplot() function in Seaborn is used to visually explore relationships between pairs of variables in a dataset, especially in multivariate analysis. It creates a grid of plots showing pairwise relationships for numeric columns, along with histograms or KDE plots on the diagonals.\n",
        "- It generates scatter plots for every possible pair of numerical variables in the dataset, revealing their relationships and potential trends.\n",
        "- The diagonal of the grid displays the marginal distribution of each individual variable, typically using histograms or kernel density estimates (KDEs), providing insight into the variable's spread and shape.\n",
        "- pairplot() is highly valuable in the initial stages of data analysis, enabling data scientists to quickly identify patterns, outliers, and potential correlations that might warrant further investigation.\n",
        "- By visually assessing the strength and nature of relationships between variables, it assists in identifying relevant features for machine learning models."
      ],
      "metadata": {
        "id": "7ZNSAY0e__2n"
      }
    },
    {
      "cell_type": "markdown",
      "source": [
        "**Q12) What is the purpose of the describe() function in Pandas?**"
      ],
      "metadata": {
        "id": "3sZNMmCsY8uq"
      }
    },
    {
      "cell_type": "markdown",
      "source": [
        "- The describe() function in Pandas is used to generate a statistical summary of a DataFrame or Series. Its primary purpose is to provide quick insights into the distribution and characteristics of the data.It provides a quick overview of the central tendency, spread, and shape of the dataset’s distribution,especially for numerical columns.\n",
        "- Its main purpose is to summarize key statistical metrics like:\n",
        "  - Count\n",
        "  - Mean\n",
        "  - Standard Deviation\n",
        "  - Minimum and Maximum\n",
        "  - Quartiles (25%, 50%, 75%)"
      ],
      "metadata": {
        "id": "o8cLVdRt_O3b"
      }
    },
    {
      "cell_type": "code",
      "source": [
        "# Purpose of describe() function\n",
        "import pandas as pd\n",
        "\n",
        "df = pd.DataFrame({\n",
        "    'Age': [25, 30, 28, 35, 40],\n",
        "    'Salary': [40000, 50000, 42000, 60000, 65000]\n",
        "})\n",
        "\n",
        "df.describe()"
      ],
      "metadata": {
        "colab": {
          "base_uri": "https://localhost:8080/",
          "height": 300
        },
        "id": "pX8ucZfL_oko",
        "outputId": "b03e2dcf-6a58-4444-aac5-884b42af9ff0"
      },
      "execution_count": 1,
      "outputs": [
        {
          "output_type": "execute_result",
          "data": {
            "text/plain": [
              "            Age        Salary\n",
              "count   5.00000      5.000000\n",
              "mean   31.60000  51400.000000\n",
              "std     5.94138  10945.318634\n",
              "min    25.00000  40000.000000\n",
              "25%    28.00000  42000.000000\n",
              "50%    30.00000  50000.000000\n",
              "75%    35.00000  60000.000000\n",
              "max    40.00000  65000.000000"
            ],
            "text/html": [
              "\n",
              "  <div id=\"df-59422313-88e2-4f93-a91a-1544b1ea5a03\" class=\"colab-df-container\">\n",
              "    <div>\n",
              "<style scoped>\n",
              "    .dataframe tbody tr th:only-of-type {\n",
              "        vertical-align: middle;\n",
              "    }\n",
              "\n",
              "    .dataframe tbody tr th {\n",
              "        vertical-align: top;\n",
              "    }\n",
              "\n",
              "    .dataframe thead th {\n",
              "        text-align: right;\n",
              "    }\n",
              "</style>\n",
              "<table border=\"1\" class=\"dataframe\">\n",
              "  <thead>\n",
              "    <tr style=\"text-align: right;\">\n",
              "      <th></th>\n",
              "      <th>Age</th>\n",
              "      <th>Salary</th>\n",
              "    </tr>\n",
              "  </thead>\n",
              "  <tbody>\n",
              "    <tr>\n",
              "      <th>count</th>\n",
              "      <td>5.00000</td>\n",
              "      <td>5.000000</td>\n",
              "    </tr>\n",
              "    <tr>\n",
              "      <th>mean</th>\n",
              "      <td>31.60000</td>\n",
              "      <td>51400.000000</td>\n",
              "    </tr>\n",
              "    <tr>\n",
              "      <th>std</th>\n",
              "      <td>5.94138</td>\n",
              "      <td>10945.318634</td>\n",
              "    </tr>\n",
              "    <tr>\n",
              "      <th>min</th>\n",
              "      <td>25.00000</td>\n",
              "      <td>40000.000000</td>\n",
              "    </tr>\n",
              "    <tr>\n",
              "      <th>25%</th>\n",
              "      <td>28.00000</td>\n",
              "      <td>42000.000000</td>\n",
              "    </tr>\n",
              "    <tr>\n",
              "      <th>50%</th>\n",
              "      <td>30.00000</td>\n",
              "      <td>50000.000000</td>\n",
              "    </tr>\n",
              "    <tr>\n",
              "      <th>75%</th>\n",
              "      <td>35.00000</td>\n",
              "      <td>60000.000000</td>\n",
              "    </tr>\n",
              "    <tr>\n",
              "      <th>max</th>\n",
              "      <td>40.00000</td>\n",
              "      <td>65000.000000</td>\n",
              "    </tr>\n",
              "  </tbody>\n",
              "</table>\n",
              "</div>\n",
              "    <div class=\"colab-df-buttons\">\n",
              "\n",
              "  <div class=\"colab-df-container\">\n",
              "    <button class=\"colab-df-convert\" onclick=\"convertToInteractive('df-59422313-88e2-4f93-a91a-1544b1ea5a03')\"\n",
              "            title=\"Convert this dataframe to an interactive table.\"\n",
              "            style=\"display:none;\">\n",
              "\n",
              "  <svg xmlns=\"http://www.w3.org/2000/svg\" height=\"24px\" viewBox=\"0 -960 960 960\">\n",
              "    <path d=\"M120-120v-720h720v720H120Zm60-500h600v-160H180v160Zm220 220h160v-160H400v160Zm0 220h160v-160H400v160ZM180-400h160v-160H180v160Zm440 0h160v-160H620v160ZM180-180h160v-160H180v160Zm440 0h160v-160H620v160Z\"/>\n",
              "  </svg>\n",
              "    </button>\n",
              "\n",
              "  <style>\n",
              "    .colab-df-container {\n",
              "      display:flex;\n",
              "      gap: 12px;\n",
              "    }\n",
              "\n",
              "    .colab-df-convert {\n",
              "      background-color: #E8F0FE;\n",
              "      border: none;\n",
              "      border-radius: 50%;\n",
              "      cursor: pointer;\n",
              "      display: none;\n",
              "      fill: #1967D2;\n",
              "      height: 32px;\n",
              "      padding: 0 0 0 0;\n",
              "      width: 32px;\n",
              "    }\n",
              "\n",
              "    .colab-df-convert:hover {\n",
              "      background-color: #E2EBFA;\n",
              "      box-shadow: 0px 1px 2px rgba(60, 64, 67, 0.3), 0px 1px 3px 1px rgba(60, 64, 67, 0.15);\n",
              "      fill: #174EA6;\n",
              "    }\n",
              "\n",
              "    .colab-df-buttons div {\n",
              "      margin-bottom: 4px;\n",
              "    }\n",
              "\n",
              "    [theme=dark] .colab-df-convert {\n",
              "      background-color: #3B4455;\n",
              "      fill: #D2E3FC;\n",
              "    }\n",
              "\n",
              "    [theme=dark] .colab-df-convert:hover {\n",
              "      background-color: #434B5C;\n",
              "      box-shadow: 0px 1px 3px 1px rgba(0, 0, 0, 0.15);\n",
              "      filter: drop-shadow(0px 1px 2px rgba(0, 0, 0, 0.3));\n",
              "      fill: #FFFFFF;\n",
              "    }\n",
              "  </style>\n",
              "\n",
              "    <script>\n",
              "      const buttonEl =\n",
              "        document.querySelector('#df-59422313-88e2-4f93-a91a-1544b1ea5a03 button.colab-df-convert');\n",
              "      buttonEl.style.display =\n",
              "        google.colab.kernel.accessAllowed ? 'block' : 'none';\n",
              "\n",
              "      async function convertToInteractive(key) {\n",
              "        const element = document.querySelector('#df-59422313-88e2-4f93-a91a-1544b1ea5a03');\n",
              "        const dataTable =\n",
              "          await google.colab.kernel.invokeFunction('convertToInteractive',\n",
              "                                                    [key], {});\n",
              "        if (!dataTable) return;\n",
              "\n",
              "        const docLinkHtml = 'Like what you see? Visit the ' +\n",
              "          '<a target=\"_blank\" href=https://colab.research.google.com/notebooks/data_table.ipynb>data table notebook</a>'\n",
              "          + ' to learn more about interactive tables.';\n",
              "        element.innerHTML = '';\n",
              "        dataTable['output_type'] = 'display_data';\n",
              "        await google.colab.output.renderOutput(dataTable, element);\n",
              "        const docLink = document.createElement('div');\n",
              "        docLink.innerHTML = docLinkHtml;\n",
              "        element.appendChild(docLink);\n",
              "      }\n",
              "    </script>\n",
              "  </div>\n",
              "\n",
              "\n",
              "    <div id=\"df-5c576bc6-69f8-4516-abd1-c5b204b54903\">\n",
              "      <button class=\"colab-df-quickchart\" onclick=\"quickchart('df-5c576bc6-69f8-4516-abd1-c5b204b54903')\"\n",
              "                title=\"Suggest charts\"\n",
              "                style=\"display:none;\">\n",
              "\n",
              "<svg xmlns=\"http://www.w3.org/2000/svg\" height=\"24px\"viewBox=\"0 0 24 24\"\n",
              "     width=\"24px\">\n",
              "    <g>\n",
              "        <path d=\"M19 3H5c-1.1 0-2 .9-2 2v14c0 1.1.9 2 2 2h14c1.1 0 2-.9 2-2V5c0-1.1-.9-2-2-2zM9 17H7v-7h2v7zm4 0h-2V7h2v10zm4 0h-2v-4h2v4z\"/>\n",
              "    </g>\n",
              "</svg>\n",
              "      </button>\n",
              "\n",
              "<style>\n",
              "  .colab-df-quickchart {\n",
              "      --bg-color: #E8F0FE;\n",
              "      --fill-color: #1967D2;\n",
              "      --hover-bg-color: #E2EBFA;\n",
              "      --hover-fill-color: #174EA6;\n",
              "      --disabled-fill-color: #AAA;\n",
              "      --disabled-bg-color: #DDD;\n",
              "  }\n",
              "\n",
              "  [theme=dark] .colab-df-quickchart {\n",
              "      --bg-color: #3B4455;\n",
              "      --fill-color: #D2E3FC;\n",
              "      --hover-bg-color: #434B5C;\n",
              "      --hover-fill-color: #FFFFFF;\n",
              "      --disabled-bg-color: #3B4455;\n",
              "      --disabled-fill-color: #666;\n",
              "  }\n",
              "\n",
              "  .colab-df-quickchart {\n",
              "    background-color: var(--bg-color);\n",
              "    border: none;\n",
              "    border-radius: 50%;\n",
              "    cursor: pointer;\n",
              "    display: none;\n",
              "    fill: var(--fill-color);\n",
              "    height: 32px;\n",
              "    padding: 0;\n",
              "    width: 32px;\n",
              "  }\n",
              "\n",
              "  .colab-df-quickchart:hover {\n",
              "    background-color: var(--hover-bg-color);\n",
              "    box-shadow: 0 1px 2px rgba(60, 64, 67, 0.3), 0 1px 3px 1px rgba(60, 64, 67, 0.15);\n",
              "    fill: var(--button-hover-fill-color);\n",
              "  }\n",
              "\n",
              "  .colab-df-quickchart-complete:disabled,\n",
              "  .colab-df-quickchart-complete:disabled:hover {\n",
              "    background-color: var(--disabled-bg-color);\n",
              "    fill: var(--disabled-fill-color);\n",
              "    box-shadow: none;\n",
              "  }\n",
              "\n",
              "  .colab-df-spinner {\n",
              "    border: 2px solid var(--fill-color);\n",
              "    border-color: transparent;\n",
              "    border-bottom-color: var(--fill-color);\n",
              "    animation:\n",
              "      spin 1s steps(1) infinite;\n",
              "  }\n",
              "\n",
              "  @keyframes spin {\n",
              "    0% {\n",
              "      border-color: transparent;\n",
              "      border-bottom-color: var(--fill-color);\n",
              "      border-left-color: var(--fill-color);\n",
              "    }\n",
              "    20% {\n",
              "      border-color: transparent;\n",
              "      border-left-color: var(--fill-color);\n",
              "      border-top-color: var(--fill-color);\n",
              "    }\n",
              "    30% {\n",
              "      border-color: transparent;\n",
              "      border-left-color: var(--fill-color);\n",
              "      border-top-color: var(--fill-color);\n",
              "      border-right-color: var(--fill-color);\n",
              "    }\n",
              "    40% {\n",
              "      border-color: transparent;\n",
              "      border-right-color: var(--fill-color);\n",
              "      border-top-color: var(--fill-color);\n",
              "    }\n",
              "    60% {\n",
              "      border-color: transparent;\n",
              "      border-right-color: var(--fill-color);\n",
              "    }\n",
              "    80% {\n",
              "      border-color: transparent;\n",
              "      border-right-color: var(--fill-color);\n",
              "      border-bottom-color: var(--fill-color);\n",
              "    }\n",
              "    90% {\n",
              "      border-color: transparent;\n",
              "      border-bottom-color: var(--fill-color);\n",
              "    }\n",
              "  }\n",
              "</style>\n",
              "\n",
              "      <script>\n",
              "        async function quickchart(key) {\n",
              "          const quickchartButtonEl =\n",
              "            document.querySelector('#' + key + ' button');\n",
              "          quickchartButtonEl.disabled = true;  // To prevent multiple clicks.\n",
              "          quickchartButtonEl.classList.add('colab-df-spinner');\n",
              "          try {\n",
              "            const charts = await google.colab.kernel.invokeFunction(\n",
              "                'suggestCharts', [key], {});\n",
              "          } catch (error) {\n",
              "            console.error('Error during call to suggestCharts:', error);\n",
              "          }\n",
              "          quickchartButtonEl.classList.remove('colab-df-spinner');\n",
              "          quickchartButtonEl.classList.add('colab-df-quickchart-complete');\n",
              "        }\n",
              "        (() => {\n",
              "          let quickchartButtonEl =\n",
              "            document.querySelector('#df-5c576bc6-69f8-4516-abd1-c5b204b54903 button');\n",
              "          quickchartButtonEl.style.display =\n",
              "            google.colab.kernel.accessAllowed ? 'block' : 'none';\n",
              "        })();\n",
              "      </script>\n",
              "    </div>\n",
              "\n",
              "    </div>\n",
              "  </div>\n"
            ],
            "application/vnd.google.colaboratory.intrinsic+json": {
              "type": "dataframe",
              "summary": "{\n  \"name\": \"df\",\n  \"rows\": 8,\n  \"fields\": [\n    {\n      \"column\": \"Age\",\n      \"properties\": {\n        \"dtype\": \"number\",\n        \"std\": 12.904895792293038,\n        \"min\": 5.0,\n        \"max\": 40.0,\n        \"num_unique_values\": 8,\n        \"samples\": [\n          31.6,\n          30.0,\n          5.0\n        ],\n        \"semantic_type\": \"\",\n        \"description\": \"\"\n      }\n    },\n    {\n      \"column\": \"Salary\",\n      \"properties\": {\n        \"dtype\": \"number\",\n        \"std\": 22999.01169784898,\n        \"min\": 5.0,\n        \"max\": 65000.0,\n        \"num_unique_values\": 8,\n        \"samples\": [\n          51400.0,\n          50000.0,\n          5.0\n        ],\n        \"semantic_type\": \"\",\n        \"description\": \"\"\n      }\n    }\n  ]\n}"
            }
          },
          "metadata": {},
          "execution_count": 1
        }
      ]
    },
    {
      "cell_type": "markdown",
      "source": [
        "**Q13) Why is handling missing data important in Pandas?**"
      ],
      "metadata": {
        "id": "WU75eAsSZCc8"
      }
    },
    {
      "cell_type": "markdown",
      "source": [
        "- Handling missing data is crucial in Pandas because incomplete or null values can lead to inaccurate results, errors, or misleading insights during data analysis and modeling.\n",
        "- Missing values can introduce bias into analyses, leading to incorrect calculations and misleading conclusions. So handling missing data ensures data quality and accuracy.\n",
        "- Many analytical techniques and visualization tools cannot directly handle missing data. Handling these values, whether through removal or imputation, ensures that the data is in a format suitable for these operations.\n",
        "- Machine learning algorithms often require complete datasets and cannot process missing values. Proper handling of missing data is a fundamental step in preparing data for training and evaluating models.\n",
        "- Missing values can indicate issues with data collection or entry. Addressing them helps maintain the overall integrity and quality of the dataset.\n",
        "- Dirty data can mislead business or scientific decisions. Clean datasets provide reliable patterns and insights. It facilitates better Decision Making."
      ],
      "metadata": {
        "id": "3gfxM4tD-kCH"
      }
    },
    {
      "cell_type": "markdown",
      "source": [
        "**Q14) What are the benefits of using Plotly for data visualization?**"
      ],
      "metadata": {
        "id": "hWfc5v_tZI0z"
      }
    },
    {
      "cell_type": "markdown",
      "source": [
        "- Plotly is a powerful Python library used for interactive, high-quality visualizations. Here are the key benefits of using Plotly, especially in Python:\n",
        "  -  Interactive Plots: Plotly excels in creating interactive visualizations with features like zooming, panning, hovering for detailed information, and clickable legends. This allows users to explore data dynamically and gain deeper insights.\n",
        "  - Wide Variety of Chart Types: It supports a comprehensive array of chart types, from basic line and bar charts to complex 3D plots, statistical charts, and specialized visualizations like choropleth maps and treemaps, catering to diverse data visualization needs.\n",
        "  - Beautiful & Publication Ready Graphics: Plotly produces visually appealing charts with high-quality graphics, enhancing the overall presentation and impact of data.\n",
        "  - Web Integration and Sharing: Plotly visualizations can be easily embedded into web applications, saved as standalone HTML files, or shared online, facilitating collaboration and broad accessibility.\n",
        "  - Ease of Use and Python Integration: Plotly offers a relatively simple and intuitive syntax, particularly for Python users, making it accessible for creating complex visualizations. It also integrates seamlessly with other popular Python libraries like Pandas and NumPy."
      ],
      "metadata": {
        "id": "G1pe06q17Cvg"
      }
    },
    {
      "cell_type": "markdown",
      "source": [
        "**Q15) How does NumPy handle multidimensional arrays?**"
      ],
      "metadata": {
        "id": "HHdbmIWDZOid"
      }
    },
    {
      "cell_type": "markdown",
      "source": [
        "- NumPy handles multidimensional arrays primarily through its core object, the ndarray (N-dimensional array). This object provides a highly efficient way to store and manipulate homogeneous data in a multidimensional grid. This homogeneity allows for efficient memory allocation and optimized operations.\n",
        "- NumPy's broadcasting mechanism allows operations on arrays with different shapes under certain conditions. This can implicitly \"stretch\" smaller arrays to match the dimensions of larger ones for element-wise operations, eliminating the need for explicit loops and improving performance.\n",
        "- The shape attribute of an ndarray is a tuple that defines the size of each dimension (or axis) of the array. For example, a 2D array (matrix) might have a shape of (rows, columns).\n",
        "- Dimensions are referred to as \"axes\" in NumPy. Operations can often be performed along specific axes.\n",
        "- NumPy leverages highly optimized C and Fortran code for its array operations, leading to significant performance gains compared to native Python loops when working with large datasets.\n",
        "- NumPy provides powerful and flexible indexing and slicing mechanisms to access elements or subsets of multidimensional arrays."
      ],
      "metadata": {
        "id": "84hlk9uc5asj"
      }
    },
    {
      "cell_type": "markdown",
      "source": [
        "**Q16) What is the role of Bokeh in data visualization?**"
      ],
      "metadata": {
        "id": "SIHODC_2ZSRq"
      }
    },
    {
      "cell_type": "markdown",
      "source": [
        "- Bokeh is a powerful Python library used for creating interactive and web-friendly visualizations. Its main role is to help developers and data analysts build rich, interactive plots, dashboards, and data apps directly in the browser.\n",
        "- Bokeh's primary strength lies in its ability to generate interactive plots, charts, and dashboards that render directly in modern web browsers. This allows users to explore data dynamically through features like panning, zooming, hovering for details, and selecting data points.\n",
        "- It enables data scientists and developers to leverage their Python skills to create sophisticated visualizations without needing to write JavaScript or HTML manually. Bokeh handles the conversion of Python code into the necessary web technologies.\n",
        "- Bokeh visualizations can be outputted in various forms, including standalone HTML files, embedded within Jupyter Notebooks, or served through a Bokeh server for more complex, dynamic applications and dashboards.\n",
        "- With the Bokeh server, users can create full-fledged interactive web applications and dashboards that respond to user input, enabling real-time data exploration and analysis."
      ],
      "metadata": {
        "id": "taO0bMMJ1_Fi"
      }
    },
    {
      "cell_type": "markdown",
      "source": [
        "**Q17) Explain the difference between apply() and map() in Pandas.**"
      ],
      "metadata": {
        "id": "JEAw8IrZafaq"
      }
    },
    {
      "cell_type": "markdown",
      "source": [
        "- map():\n",
        "  - Applies a function element-by-element to a Pandas Series.\n",
        "  - Works only with Series, not DataFrames.\n",
        "  - Primarily designed for element-wise transformations or substitutions based on a mapping.\n",
        "  - When a function is provided, map() applies it element-wise to each value in the Series. When a dictionary or Series is provided, it uses them for value substitution. Unmatched keys result in NaN values.\n",
        "- apply():\n",
        "  - Can be used on both Series and DataFrame.\n",
        "  -  More versatile than map(), apply() can handle more complex operations, including those that involve multiple columns or rows, or aggregation. It's suitable for applying functions that operate on entire rows or columns, or even individual elements.\n",
        "  - On a Series the function is applied element-wise, similar to map() when a function is provided.\n",
        "  - On a DataFrame the function is applied along a specified axis (rows or columns). By default, it applies the function column-wise (axis=0), but you can set axis=1 to apply it row-wise. The function receives a Series (either a column or a row) as input."
      ],
      "metadata": {
        "id": "R-Vw82uWzJPy"
      }
    },
    {
      "cell_type": "markdown",
      "source": [
        "**Q18) What are some advanced features of NumPy?**"
      ],
      "metadata": {
        "id": "KUPbFlkGalEt"
      }
    },
    {
      "cell_type": "markdown",
      "source": [
        "- Some advanced features of numPy consists of the following:\n",
        "  - Broadcasting: Allows arithmetic operations on arrays of different shapes without explicitly replicating data. This mechanism allows NumPy to perform operations on arrays of different shapes and sizes by automatically aligning their dimensions.\n",
        "  - Advanced Indexing & Slicing: Supports Boolean indexing, fancy indexing, and multidimensional slicing.\n",
        "  - Memory Management and Views: NumPy is designed for memory efficiency. Operations often return \"views\" of the original array instead of creating new copies, saving memory and improving performance when working with large datasets.\n",
        "  - Masked Arrays: Handles missing or invalid entries in data without disrupting calculations.\n",
        "  - Random Number Generation: The numpy.random module offers a wide range of functions for generating random numbers and samples from various probability distributions, essential for simulations and statistical analysis."
      ],
      "metadata": {
        "id": "BrFqRZZUrMKk"
      }
    },
    {
      "cell_type": "markdown",
      "source": [
        "**Q19) How does Pandas simplify time series analysis?**"
      ],
      "metadata": {
        "id": "SYF1V0lWaqSA"
      }
    },
    {
      "cell_type": "markdown",
      "source": [
        "- Pandas simplifies time series analysis through a rich set of tools designed specifically to handle time-indexed data.\n",
        " - Pandas introduces the DateTimeIndex, which allows for intuitive time-based indexing and slicing of data. This enables easy selection of data for specific dates, ranges, or even partial strings.\n",
        " - The resample() method allows for changing the frequency of time series data.This is crucial for analyzing trends at different granularities and aligning data from various sources.\n",
        " - Pandas provides functions like rolling() for calculating moving averages, sums, or other statistics over a defined window of time. This helps in smoothing out noise, identifying trends, and performing technical analysis.\n",
        " - Pandas offers robust methods for handling missing values in time series, including interpolation and forward/backward filling, which are essential for maintaining data integrity in time-dependent datasets.\n",
        " - Pandas understands time-related concepts like time spans, time deltas, and date offsets, enabling calculations and manipulations based on these units."
      ],
      "metadata": {
        "id": "JmbSqQI8bkBt"
      }
    },
    {
      "cell_type": "markdown",
      "source": [
        "**Q20) What is the role of a pivot table in Pandas?**"
      ],
      "metadata": {
        "id": "k34P_DMVc3r0"
      }
    },
    {
      "cell_type": "markdown",
      "source": [
        " - A pivot table in Pandas serves as a powerful tool for summarizing and analyzing large datasets within a DataFrame. Its primary role is to transform and aggregate data, enabling users to gain insights and identify patterns that might be obscured in raw data.\n",
        " - Pivot tables allow you to group and aggregate data based on one or more categorical variables. You can apply various aggregation functions like sum, mean, count, min, max to numerical data, providing concise summaries of large datasets.\n",
        " - It facilitates reshaping data from a \"long\" format to a \"wide\" format, or vice versa. This transformation can make data more suitable for specific analyses or visualizations by placing different categories into columns, rows, or values.\n",
        " - Pivot tables offer dynamic flexibility in exploring data. You can easily change the structure by modifying the index, columns, and values, allowing for different perspectives and the ability to answer specific questions about the data.\n",
        " - By summarizing and reorganizing data, pivot tables help in identifying trends, relationships, and patterns that might not be immediately apparent in the original, unaggregated data."
      ],
      "metadata": {
        "id": "bb0JNHwOo2lg"
      }
    },
    {
      "cell_type": "markdown",
      "source": [
        "**Q21) Why is NumPy’s array slicing faster than Python’s list slicing?**"
      ],
      "metadata": {
        "id": "ICnmbfXVc_gt"
      }
    },
    {
      "cell_type": "markdown",
      "source": [
        "- NumPy's array slicing is significantly faster than Python's list slicing primarily due to the fundamental differences in how they store and manage data in memory.\n",
        "- Following are the reasons why arrays are faster than lists:\n",
        "  - Contiguous Memory Allocation and Homogeneous Data Types:\n",
        "   - NumPy Arrays store elements of a single, uniform data type in contiguous memory blocks. This allows for efficient access and manipulation, as the processor can load chunks of data directly into its cache with fewer memory accesses.\n",
        "   - Python Lists can store elements of different data types, meaning the actual data objects are often scattered in memory, with the list itself containing pointers to these objects. This non-contiguous storage leads to more cache misses and slower data retrieval.\n",
        "  - No Deep Copy in Slicing:\n",
        "    - Slicing a NumPy array returns a view (not a copy) of the data.\n",
        "    - Slicing a Python list returns a new list with copied elements.\n",
        "  - C Implementation and Vectorization:\n",
        "   - The core of NumPy is implemented in C and Fortran, allowing for highly optimized, low-level operations. Slicing operations are performed directly on these C-level arrays.\n",
        "   - While Python's lists are also implemented in C, the operations on them still involve Python's object model and interpretation overhead, which is slower than NumPy's direct manipulation of contiguous data. NumPy leverages vectorization, performing operations on entire arrays at once without explicit Python loops, which significantly boosts performance."
      ],
      "metadata": {
        "id": "PRRz_8zPl3ef"
      }
    },
    {
      "cell_type": "markdown",
      "source": [
        "**Q22) What are some common use cases for Seaborn?**"
      ],
      "metadata": {
        "id": "vQejK_4rdGn4"
      }
    },
    {
      "cell_type": "markdown",
      "source": [
        "- Seaborn is a Python library built on Matplotlib, designed for creating informative and attractive statistical graphics.\n",
        "- Use cases for Seaborn:\n",
        "  - Seaborn simplifies the process of understanding data distributions, relationships, and patterns. Plots like histograms, scatter plots, pair plots, and joint plots are frequently used to explore datasets and identify potential correlations or anomalies.\n",
        "  - It excels at visualizing relationships between variables. Regression plots can show linear relationships and confidence intervals, while heatmaps are useful for displaying correlations in a matrix format.\n",
        "  - Seaborn provides specialized plots for visualizing categorical data, such as bar plots, count plots, box plots, violin plots, and swarm plots. These help in comparing distributions across different categories or showing the frequency of categorical variables.\n",
        "  - In machine learning workflows, Seaborn is used to visualize data preprocessing steps, feature importance, and model performance.\n",
        "  - Seaborn's default styles and color palettes are designed to produce aesthetically pleasing and professional-looking plots, making them suitable for presentations, reports, and academic publications."
      ],
      "metadata": {
        "id": "8MZXLeGxdQOz"
      }
    },
    {
      "cell_type": "markdown",
      "source": [
        "# **PRACTICAL QUESTIONS**"
      ],
      "metadata": {
        "id": "55JN08mUnJZ-"
      }
    },
    {
      "cell_type": "markdown",
      "source": [
        "**Q1) How do you create a 2D NumPy array and calculate the sum of each row?**"
      ],
      "metadata": {
        "id": "rQksXRKho2nW"
      }
    },
    {
      "cell_type": "code",
      "source": [
        "import numpy as np\n",
        "\n",
        "a= np.array([[1,2,3,4],\n",
        "            [5,6,7,8],\n",
        "             [9,10,11,12]])\n",
        "\n",
        "for i in range(len(a)):\n",
        "  print(f\"Sum of row {i+1}:\",np.sum(a[i]))"
      ],
      "metadata": {
        "colab": {
          "base_uri": "https://localhost:8080/"
        },
        "id": "rHMkcBYEo39f",
        "outputId": "ae04c85b-0c7f-47dd-d48c-e5167cb597e5"
      },
      "execution_count": null,
      "outputs": [
        {
          "output_type": "stream",
          "name": "stdout",
          "text": [
            "Sum of row 1: 10\n",
            "Sum of row 2: 26\n",
            "Sum of row 3: 42\n"
          ]
        }
      ]
    },
    {
      "cell_type": "markdown",
      "source": [
        "**Q2) Write a Pandas script to find the mean of a specific column in a DataFrame.**"
      ],
      "metadata": {
        "id": "pUBwJXjTrAYr"
      }
    },
    {
      "cell_type": "code",
      "source": [
        "import pandas as pd\n",
        "\n",
        "data = {\n",
        "    'Name': ['Balu', 'Rahul', 'Adarsh', 'Mohit'],\n",
        "    'Age': [25, 30, 35, 40],\n",
        "    'Salary': [50000, 60000, 70000, 80000]\n",
        "}\n",
        "df = pd.DataFrame(data,index=[1,2,3,4])\n",
        "print(df)\n",
        "a = input(\"\\nEnter the column name to calculate the mean:\")\n",
        "\n",
        "if a  not in df:\n",
        "  print(\"No such column in the file!\")\n",
        "else:\n",
        "  print(f\"The mean of {a} column is:\",df[a].mean())"
      ],
      "metadata": {
        "id": "4Hw-cE2HrEjL",
        "colab": {
          "base_uri": "https://localhost:8080/"
        },
        "outputId": "181b9ac1-ebb3-460d-d617-9e5c137d13a1"
      },
      "execution_count": null,
      "outputs": [
        {
          "output_type": "stream",
          "name": "stdout",
          "text": [
            "     Name  Age  Salary\n",
            "1    Balu   25   50000\n",
            "2   Rahul   30   60000\n",
            "3  Adarsh   35   70000\n",
            "4   Mohit   40   80000\n",
            "\n",
            "Enter the column name to calculate the mean:Salary\n",
            "The mean of Salary column is: 65000.0\n"
          ]
        }
      ]
    },
    {
      "cell_type": "markdown",
      "source": [
        "**Q3) Create a scatter plot using Matplotlib.**"
      ],
      "metadata": {
        "id": "ZhhhaWlw48S7"
      }
    },
    {
      "cell_type": "code",
      "source": [
        "import matplotlib.pyplot as plt\n",
        "\n",
        "a = [10,20,30,40,50]\n",
        "b = [100,200,300,400,500]\n",
        "\n",
        "plt.scatter(a,b,color=\"b\",marker=\"o\",label=\"Data points\")\n",
        "plt.xlabel(\"X-axis\")\n",
        "plt.ylabel(\"Y-axis\")\n",
        "plt.title(\"Sample Scatter Plot\")\n",
        "plt.legend()\n",
        "\n",
        "plt.show()"
      ],
      "metadata": {
        "colab": {
          "base_uri": "https://localhost:8080/",
          "height": 472
        },
        "id": "rdem21lQ5BTv",
        "outputId": "5c2c4213-c8b7-4d2e-b57a-830d22b0a49d"
      },
      "execution_count": null,
      "outputs": [
        {
          "output_type": "display_data",
          "data": {
            "text/plain": [
              "<Figure size 640x480 with 1 Axes>"
            ],
            "image/png": "[encoded data removed]"
          },
          "metadata": {}
        }
      ]
    },
    {
      "cell_type": "markdown",
      "source": [
        "**Q4)  How do you calculate the correlation matrix using Seaborn and visualize it with a heatmap?**"
      ],
      "metadata": {
        "id": "VB7_BHU48Q5P"
      }
    },
    {
      "cell_type": "code",
      "source": [
        "import pandas as pd\n",
        "import seaborn as sns\n",
        "import matplotlib.pyplot as plt\n",
        "\n",
        "data = {\n",
        "    'Sam': [85, 90, 78, 92, 100],\n",
        "    'Neha': [89, 94, 72, 91, 92],\n",
        "    'Adarsh': [92, 91, 88, 90, 98],\n",
        "    'Balu' : [82, 99, 98, 97, 100]\n",
        "}\n",
        "df = pd.DataFrame(data)\n",
        "\n",
        "correlation_matrix = df.corr()\n",
        "\n",
        "plt.figure(figsize=(8, 6))\n",
        "sns.heatmap(correlation_matrix, annot=True, cmap='coolwarm', linewidths=1)\n",
        "\n",
        "plt.title(\"Correlation Matrix Heatmap\")\n",
        "plt.show()"
      ],
      "metadata": {
        "colab": {
          "base_uri": "https://localhost:8080/",
          "height": 545
        },
        "id": "TT-ljDvV8bLG",
        "outputId": "deb1430b-07a0-47c8-d49f-b80012b14378"
      },
      "execution_count": null,
      "outputs": [
        {
          "output_type": "display_data",
          "data": {
            "text/plain": [
              "<Figure size 800x600 with 2 Axes>"
            ],
            "image/png": "[encoded data removed]"
          },
          "metadata": {}
        }
      ]
    },
    {
      "cell_type": "markdown",
      "source": [
        "**Q5) Generate a bar plot using Plotly.**"
      ],
      "metadata": {
        "id": "ko-6riJH993J"
      }
    },
    {
      "cell_type": "code",
      "source": [
        "import plotly.express as ex\n",
        "import matplotlib.pyplot as plt\n",
        "\n",
        "data = {\"Names\":[\"Balu\", \"Adarsh\", \"Sam\", \"Neha\"],\n",
        "        \"Marks\":[92, 80, 98, 85]}\n",
        "\n",
        "fig = ex.bar(data,x=\"Names\",y=\"Marks\",title=\"Marks Distribution\",color='Names')\n",
        "fig.update_layout(width=800,height=500)\n",
        "\n",
        "fig.show()"
      ],
      "metadata": {
        "colab": {
          "base_uri": "https://localhost:8080/",
          "height": 517
        },
        "id": "zJMIOTe7-Acw",
        "outputId": "4ec09a7c-d009-48b1-993c-37d8cb502ee8"
      },
      "execution_count": 6,
      "outputs": [
        {
          "output_type": "display_data",
          "data": {
            "text/html": [
              "<html>\n",
              "<head><meta charset=\"utf-8\" /></head>\n",
              "<body>\n",
              "    <div>            <script src=\"https://cdnjs.cloudflare.com/ajax/libs/mathjax/2.7.5/MathJax.js?config=TeX-AMS-MML_SVG\"></script><script type=\"text/javascript\">if (window.MathJax && window.MathJax.Hub && window.MathJax.Hub.Config) {window.MathJax.Hub.Config({SVG: {font: \"STIX-Web\"}});}</script>                <script type=\"text/javascript\">window.PlotlyConfig = {MathJaxConfig: 'local'};</script>\n",
              "        <script charset=\"utf-8\" src=\"https://cdn.plot.ly/plotly-2.35.2.min.js\"></script>                <div id=\"d58e5ecc-2261-4c4d-9542-d3a04e8aa535\" class=\"plotly-graph-div\" style=\"height:500px; width:800px;\"></div>            <script type=\"text/javascript\">                                    window.PLOTLYENV=window.PLOTLYENV || {};                                    if (document.getElementById(\"d58e5ecc-2261-4c4d-9542-d3a04e8aa535\")) {                    Plotly.newPlot(                        \"d58e5ecc-2261-4c4d-9542-d3a04e8aa535\",                        [{\"alignmentgroup\":\"True\",\"hovertemplate\":\"Names=%{x}\\u003cbr\\u003eMarks=%{y}\\u003cextra\\u003e\\u003c\\u002fextra\\u003e\",\"legendgroup\":\"Balu\",\"marker\":{\"color\":\"#636efa\",\"pattern\":{\"shape\":\"\"}},\"name\":\"Balu\",\"offsetgroup\":\"Balu\",\"orientation\":\"v\",\"showlegend\":true,\"textposition\":\"auto\",\"x\":[\"Balu\"],\"xaxis\":\"x\",\"y\":[92],\"yaxis\":\"y\",\"type\":\"bar\"},{\"alignmentgroup\":\"True\",\"hovertemplate\":\"Names=%{x}\\u003cbr\\u003eMarks=%{y}\\u003cextra\\u003e\\u003c\\u002fextra\\u003e\",\"legendgroup\":\"Adarsh\",\"marker\":{\"color\":\"#EF553B\",\"pattern\":{\"shape\":\"\"}},\"name\":\"Adarsh\",\"offsetgroup\":\"Adarsh\",\"orientation\":\"v\",\"showlegend\":true,\"textposition\":\"auto\",\"x\":[\"Adarsh\"],\"xaxis\":\"x\",\"y\":[80],\"yaxis\":\"y\",\"type\":\"bar\"},{\"alignmentgroup\":\"True\",\"hovertemplate\":\"Names=%{x}\\u003cbr\\u003eMarks=%{y}\\u003cextra\\u003e\\u003c\\u002fextra\\u003e\",\"legendgroup\":\"Sam\",\"marker\":{\"color\":\"#00cc96\",\"pattern\":{\"shape\":\"\"}},\"name\":\"Sam\",\"offsetgroup\":\"Sam\",\"orientation\":\"v\",\"showlegend\":true,\"textposition\":\"auto\",\"x\":[\"Sam\"],\"xaxis\":\"x\",\"y\":[98],\"yaxis\":\"y\",\"type\":\"bar\"},{\"alignmentgroup\":\"True\",\"hovertemplate\":\"Names=%{x}\\u003cbr\\u003eMarks=%{y}\\u003cextra\\u003e\\u003c\\u002fextra\\u003e\",\"legendgroup\":\"Neha\",\"marker\":{\"color\":\"#ab63fa\",\"pattern\":{\"shape\":\"\"}},\"name\":\"Neha\",\"offsetgroup\":\"Neha\",\"orientation\":\"v\",\"showlegend\":true,\"textposition\":\"auto\",\"x\":[\"Neha\"],\"xaxis\":\"x\",\"y\":[85],\"yaxis\":\"y\",\"type\":\"bar\"}],                        {\"template\":{\"data\":{\"histogram2dcontour\":[{\"type\":\"histogram2dcontour\",\"colorbar\":{\"outlinewidth\":0,\"ticks\":\"\"},\"colorscale\":[[0.0,\"#0d0887\"],[0.1111111111111111,\"#46039f\"],[0.2222222222222222,\"#7201a8\"],[0.3333333333333333,\"#9c179e\"],[0.4444444444444444,\"#bd3786\"],[0.5555555555555556,\"#d8576b\"],[0.6666666666666666,\"#ed7953\"],[0.7777777777777778,\"#fb9f3a\"],[0.8888888888888888,\"#fdca26\"],[1.0,\"#f0f921\"]]}],\"choropleth\":[{\"type\":\"choropleth\",\"colorbar\":{\"outlinewidth\":0,\"ticks\":\"\"}}],\"histogram2d\":[{\"type\":\"histogram2d\",\"colorbar\":{\"outlinewidth\":0,\"ticks\":\"\"},\"colorscale\":[[0.0,\"#0d0887\"],[0.1111111111111111,\"#46039f\"],[0.2222222222222222,\"#7201a8\"],[0.3333333333333333,\"#9c179e\"],[0.4444444444444444,\"#bd3786\"],[0.5555555555555556,\"#d8576b\"],[0.6666666666666666,\"#ed7953\"],[0.7777777777777778,\"#fb9f3a\"],[0.8888888888888888,\"#fdca26\"],[1.0,\"#f0f921\"]]}],\"heatmap\":[{\"type\":\"heatmap\",\"colorbar\":{\"outlinewidth\":0,\"ticks\":\"\"},\"colorscale\":[[0.0,\"#0d0887\"],[0.1111111111111111,\"#46039f\"],[0.2222222222222222,\"#7201a8\"],[0.3333333333333333,\"#9c179e\"],[0.4444444444444444,\"#bd3786\"],[0.5555555555555556,\"#d8576b\"],[0.6666666666666666,\"#ed7953\"],[0.7777777777777778,\"#fb9f3a\"],[0.8888888888888888,\"#fdca26\"],[1.0,\"#f0f921\"]]}],\"heatmapgl\":[{\"type\":\"heatmapgl\",\"colorbar\":{\"outlinewidth\":0,\"ticks\":\"\"},\"colorscale\":[[0.0,\"#0d0887\"],[0.1111111111111111,\"#46039f\"],[0.2222222222222222,\"#7201a8\"],[0.3333333333333333,\"#9c179e\"],[0.4444444444444444,\"#bd3786\"],[0.5555555555555556,\"#d8576b\"],[0.6666666666666666,\"#ed7953\"],[0.7777777777777778,\"#fb9f3a\"],[0.8888888888888888,\"#fdca26\"],[1.0,\"#f0f921\"]]}],\"contourcarpet\":[{\"type\":\"contourcarpet\",\"colorbar\":{\"outlinewidth\":0,\"ticks\":\"\"}}],\"contour\":[{\"type\":\"contour\",\"colorbar\":{\"outlinewidth\":0,\"ticks\":\"\"},\"colorscale\":[[0.0,\"#0d0887\"],[0.1111111111111111,\"#46039f\"],[0.2222222222222222,\"#7201a8\"],[0.3333333333333333,\"#9c179e\"],[0.4444444444444444,\"#bd3786\"],[0.5555555555555556,\"#d8576b\"],[0.6666666666666666,\"#ed7953\"],[0.7777777777777778,\"#fb9f3a\"],[0.8888888888888888,\"#fdca26\"],[1.0,\"#f0f921\"]]}],\"surface\":[{\"type\":\"surface\",\"colorbar\":{\"outlinewidth\":0,\"ticks\":\"\"},\"colorscale\":[[0.0,\"#0d0887\"],[0.1111111111111111,\"#46039f\"],[0.2222222222222222,\"#7201a8\"],[0.3333333333333333,\"#9c179e\"],[0.4444444444444444,\"#bd3786\"],[0.5555555555555556,\"#d8576b\"],[0.6666666666666666,\"#ed7953\"],[0.7777777777777778,\"#fb9f3a\"],[0.8888888888888888,\"#fdca26\"],[1.0,\"#f0f921\"]]}],\"mesh3d\":[{\"type\":\"mesh3d\",\"colorbar\":{\"outlinewidth\":0,\"ticks\":\"\"}}],\"scatter\":[{\"fillpattern\":{\"fillmode\":\"overlay\",\"size\":10,\"solidity\":0.2},\"type\":\"scatter\"}],\"parcoords\":[{\"type\":\"parcoords\",\"line\":{\"colorbar\":{\"outlinewidth\":0,\"ticks\":\"\"}}}],\"scatterpolargl\":[{\"type\":\"scatterpolargl\",\"marker\":{\"colorbar\":{\"outlinewidth\":0,\"ticks\":\"\"}}}],\"bar\":[{\"error_x\":{\"color\":\"#2a3f5f\"},\"error_y\":{\"color\":\"#2a3f5f\"},\"marker\":{\"line\":{\"color\":\"#E5ECF6\",\"width\":0.5},\"pattern\":{\"fillmode\":\"overlay\",\"size\":10,\"solidity\":0.2}},\"type\":\"bar\"}],\"scattergeo\":[{\"type\":\"scattergeo\",\"marker\":{\"colorbar\":{\"outlinewidth\":0,\"ticks\":\"\"}}}],\"scatterpolar\":[{\"type\":\"scatterpolar\",\"marker\":{\"colorbar\":{\"outlinewidth\":0,\"ticks\":\"\"}}}],\"histogram\":[{\"marker\":{\"pattern\":{\"fillmode\":\"overlay\",\"size\":10,\"solidity\":0.2}},\"type\":\"histogram\"}],\"scattergl\":[{\"type\":\"scattergl\",\"marker\":{\"colorbar\":{\"outlinewidth\":0,\"ticks\":\"\"}}}],\"scatter3d\":[{\"type\":\"scatter3d\",\"line\":{\"colorbar\":{\"outlinewidth\":0,\"ticks\":\"\"}},\"marker\":{\"colorbar\":{\"outlinewidth\":0,\"ticks\":\"\"}}}],\"scattermapbox\":[{\"type\":\"scattermapbox\",\"marker\":{\"colorbar\":{\"outlinewidth\":0,\"ticks\":\"\"}}}],\"scatterternary\":[{\"type\":\"scatterternary\",\"marker\":{\"colorbar\":{\"outlinewidth\":0,\"ticks\":\"\"}}}],\"scattercarpet\":[{\"type\":\"scattercarpet\",\"marker\":{\"colorbar\":{\"outlinewidth\":0,\"ticks\":\"\"}}}],\"carpet\":[{\"aaxis\":{\"endlinecolor\":\"#2a3f5f\",\"gridcolor\":\"white\",\"linecolor\":\"white\",\"minorgridcolor\":\"white\",\"startlinecolor\":\"#2a3f5f\"},\"baxis\":{\"endlinecolor\":\"#2a3f5f\",\"gridcolor\":\"white\",\"linecolor\":\"white\",\"minorgridcolor\":\"white\",\"startlinecolor\":\"#2a3f5f\"},\"type\":\"carpet\"}],\"table\":[{\"cells\":{\"fill\":{\"color\":\"#EBF0F8\"},\"line\":{\"color\":\"white\"}},\"header\":{\"fill\":{\"color\":\"#C8D4E3\"},\"line\":{\"color\":\"white\"}},\"type\":\"table\"}],\"barpolar\":[{\"marker\":{\"line\":{\"color\":\"#E5ECF6\",\"width\":0.5},\"pattern\":{\"fillmode\":\"overlay\",\"size\":10,\"solidity\":0.2}},\"type\":\"barpolar\"}],\"pie\":[{\"automargin\":true,\"type\":\"pie\"}]},\"layout\":{\"autotypenumbers\":\"strict\",\"colorway\":[\"#636efa\",\"#EF553B\",\"#00cc96\",\"#ab63fa\",\"#FFA15A\",\"#19d3f3\",\"#FF6692\",\"#B6E880\",\"#FF97FF\",\"#FECB52\"],\"font\":{\"color\":\"#2a3f5f\"},\"hovermode\":\"closest\",\"hoverlabel\":{\"align\":\"left\"},\"paper_bgcolor\":\"white\",\"plot_bgcolor\":\"#E5ECF6\",\"polar\":{\"bgcolor\":\"#E5ECF6\",\"angularaxis\":{\"gridcolor\":\"white\",\"linecolor\":\"white\",\"ticks\":\"\"},\"radialaxis\":{\"gridcolor\":\"white\",\"linecolor\":\"white\",\"ticks\":\"\"}},\"ternary\":{\"bgcolor\":\"#E5ECF6\",\"aaxis\":{\"gridcolor\":\"white\",\"linecolor\":\"white\",\"ticks\":\"\"},\"baxis\":{\"gridcolor\":\"white\",\"linecolor\":\"white\",\"ticks\":\"\"},\"caxis\":{\"gridcolor\":\"white\",\"linecolor\":\"white\",\"ticks\":\"\"}},\"coloraxis\":{\"colorbar\":{\"outlinewidth\":0,\"ticks\":\"\"}},\"colorscale\":{\"sequential\":[[0.0,\"#0d0887\"],[0.1111111111111111,\"#46039f\"],[0.2222222222222222,\"#7201a8\"],[0.3333333333333333,\"#9c179e\"],[0.4444444444444444,\"#bd3786\"],[0.5555555555555556,\"#d8576b\"],[0.6666666666666666,\"#ed7953\"],[0.7777777777777778,\"#fb9f3a\"],[0.8888888888888888,\"#fdca26\"],[1.0,\"#f0f921\"]],\"sequentialminus\":[[0.0,\"#0d0887\"],[0.1111111111111111,\"#46039f\"],[0.2222222222222222,\"#7201a8\"],[0.3333333333333333,\"#9c179e\"],[0.4444444444444444,\"#bd3786\"],[0.5555555555555556,\"#d8576b\"],[0.6666666666666666,\"#ed7953\"],[0.7777777777777778,\"#fb9f3a\"],[0.8888888888888888,\"#fdca26\"],[1.0,\"#f0f921\"]],\"diverging\":[[0,\"#8e0152\"],[0.1,\"#c51b7d\"],[0.2,\"#de77ae\"],[0.3,\"#f1b6da\"],[0.4,\"#fde0ef\"],[0.5,\"#f7f7f7\"],[0.6,\"#e6f5d0\"],[0.7,\"#b8e186\"],[0.8,\"#7fbc41\"],[0.9,\"#4d9221\"],[1,\"#276419\"]]},\"xaxis\":{\"gridcolor\":\"white\",\"linecolor\":\"white\",\"ticks\":\"\",\"title\":{\"standoff\":15},\"zerolinecolor\":\"white\",\"automargin\":true,\"zerolinewidth\":2},\"yaxis\":{\"gridcolor\":\"white\",\"linecolor\":\"white\",\"ticks\":\"\",\"title\":{\"standoff\":15},\"zerolinecolor\":\"white\",\"automargin\":true,\"zerolinewidth\":2},\"scene\":{\"xaxis\":{\"backgroundcolor\":\"#E5ECF6\",\"gridcolor\":\"white\",\"linecolor\":\"white\",\"showbackground\":true,\"ticks\":\"\",\"zerolinecolor\":\"white\",\"gridwidth\":2},\"yaxis\":{\"backgroundcolor\":\"#E5ECF6\",\"gridcolor\":\"white\",\"linecolor\":\"white\",\"showbackground\":true,\"ticks\":\"\",\"zerolinecolor\":\"white\",\"gridwidth\":2},\"zaxis\":{\"backgroundcolor\":\"#E5ECF6\",\"gridcolor\":\"white\",\"linecolor\":\"white\",\"showbackground\":true,\"ticks\":\"\",\"zerolinecolor\":\"white\",\"gridwidth\":2}},\"shapedefaults\":{\"line\":{\"color\":\"#2a3f5f\"}},\"annotationdefaults\":{\"arrowcolor\":\"#2a3f5f\",\"arrowhead\":0,\"arrowwidth\":1},\"geo\":{\"bgcolor\":\"white\",\"landcolor\":\"#E5ECF6\",\"subunitcolor\":\"white\",\"showland\":true,\"showlakes\":true,\"lakecolor\":\"white\"},\"title\":{\"x\":0.05},\"mapbox\":{\"style\":\"light\"}}},\"xaxis\":{\"anchor\":\"y\",\"domain\":[0.0,1.0],\"title\":{\"text\":\"Names\"},\"categoryorder\":\"array\",\"categoryarray\":[\"Balu\",\"Adarsh\",\"Sam\",\"Neha\"]},\"yaxis\":{\"anchor\":\"x\",\"domain\":[0.0,1.0],\"title\":{\"text\":\"Marks\"}},\"legend\":{\"title\":{\"text\":\"Names\"},\"tracegroupgap\":0},\"title\":{\"text\":\"Marks Distribution\"},\"barmode\":\"relative\",\"width\":800,\"height\":500},                        {\"responsive\": true}                    ).then(function(){\n",
              "                            \n",
              "var gd = document.getElementById('d58e5ecc-2261-4c4d-9542-d3a04e8aa535');\n",
              "var x = new MutationObserver(function (mutations, observer) {{\n",
              "        var display = window.getComputedStyle(gd).display;\n",
              "        if (!display || display === 'none') {{\n",
              "            console.log([gd, 'removed!']);\n",
              "            Plotly.purge(gd);\n",
              "            observer.disconnect();\n",
              "        }}\n",
              "}});\n",
              "\n",
              "// Listen for the removal of the full notebook cells\n",
              "var notebookContainer = gd.closest('#notebook-container');\n",
              "if (notebookContainer) {{\n",
              "    x.observe(notebookContainer, {childList: true});\n",
              "}}\n",
              "\n",
              "// Listen for the clearing of the current output cell\n",
              "var outputEl = gd.closest('.output');\n",
              "if (outputEl) {{\n",
              "    x.observe(outputEl, {childList: true});\n",
              "}}\n",
              "\n",
              "                        })                };                            </script>        </div>\n",
              "</body>\n",
              "</html>"
            ]
          },
          "metadata": {}
        }
      ]
    },
    {
      "cell_type": "markdown",
      "source": [
        "**Q6) Create a DataFrame and add a new column based on an existing column.**"
      ],
      "metadata": {
        "id": "LFCAHskbsOkU"
      }
    },
    {
      "cell_type": "code",
      "source": [
        "import pandas as pd\n",
        "\n",
        "def grade(marks):\n",
        "  if marks >= 90:\n",
        "    return \"A\"\n",
        "  elif marks >= 80:\n",
        "    return \"B\"\n",
        "  elif marks >= 70:\n",
        "    return \"C\"\n",
        "  else:\n",
        "    return \"D\"\n",
        "\n",
        "data = { \"Name\" : [\"Adarsh\",\"Balu\",\"Rahul\",\"Sam\",\"Neha\"],\n",
        "        \"Marks\": [78, 89, 99, 95, 67]}\n",
        "\n",
        "df = pd.DataFrame(data)\n",
        "\n",
        "df[\"Grade\"] = df[\"Marks\"].apply(grade)\n",
        "print(df)"
      ],
      "metadata": {
        "colab": {
          "base_uri": "https://localhost:8080/"
        },
        "id": "ZD41JekTsTpd",
        "outputId": "e4ddd929-f955-4363-ba19-646974a6604f"
      },
      "execution_count": null,
      "outputs": [
        {
          "output_type": "stream",
          "name": "stdout",
          "text": [
            "     Name  Marks Grade\n",
            "0  Adarsh     78     C\n",
            "1    Balu     89     B\n",
            "2   Rahul     99     A\n",
            "3     Sam     95     A\n",
            "4    Neha     67     D\n"
          ]
        }
      ]
    },
    {
      "cell_type": "markdown",
      "source": [
        "**Q7) Write a program to perform element-wise multiplication of two NumPy arrays.**"
      ],
      "metadata": {
        "id": "NVQb3HVjtuTh"
      }
    },
    {
      "cell_type": "code",
      "source": [
        "import numpy as np\n",
        "\n",
        "arr1 = np.array([1, 2, 3, 4])\n",
        "arr2 = np.array([10, 20, 30, 40])\n",
        "\n",
        "result = arr1 * arr2\n",
        "\n",
        "print(\"Array 1:\", arr1)\n",
        "print(\"Array 2:\", arr2)\n",
        "print(\"Element-wise Multiplication:\", result)"
      ],
      "metadata": {
        "colab": {
          "base_uri": "https://localhost:8080/"
        },
        "id": "yxB7UPTbvjYe",
        "outputId": "85b90faa-4403-4ba2-cede-2f5b943b9785"
      },
      "execution_count": null,
      "outputs": [
        {
          "output_type": "stream",
          "name": "stdout",
          "text": [
            "Array 1: [1 2 3 4]\n",
            "Array 2: [10 20 30 40]\n",
            "Element-wise Multiplication: [ 10  40  90 160]\n"
          ]
        }
      ]
    },
    {
      "cell_type": "markdown",
      "source": [
        "**Q8) Create a line plot with multiple lines using Matplotlib.**"
      ],
      "metadata": {
        "id": "A2Tb1MPqv4Rk"
      }
    },
    {
      "cell_type": "code",
      "source": [
        "import matplotlib.pyplot as plt\n",
        "\n",
        "x = [1, 2, 3, 4, 5]\n",
        "y1 = [10, 100, 70, 80, 90]\n",
        "y2 = [20, 30, 60, 80, 100]\n",
        "y3 = [90, 120, 110, 140, 60]\n",
        "\n",
        "plt.plot(x, y1, label='Line 1', color='blue', linestyle='-')\n",
        "plt.plot(x, y2, label='Line 2', color='green', linestyle='--')\n",
        "plt.plot(x, y3, label='Line 3', color='red', linestyle='-.')\n",
        "\n",
        "plt.xlabel('X-axis')\n",
        "plt.ylabel('Y-axis')\n",
        "plt.title('Multiple Line Plot')\n",
        "plt.legend()\n",
        "plt.grid()\n",
        "\n",
        "plt.show()"
      ],
      "metadata": {
        "colab": {
          "base_uri": "https://localhost:8080/",
          "height": 472
        },
        "id": "b1BQ7mPLvxvJ",
        "outputId": "0199c982-62fd-456e-da90-5b393970ee2e"
      },
      "execution_count": null,
      "outputs": [
        {
          "output_type": "display_data",
          "data": {
            "text/plain": [
              "<Figure size 640x480 with 1 Axes>"
            ],
            "image/png": "[encoded data removed]"
          },
          "metadata": {}
        }
      ]
    },
    {
      "cell_type": "markdown",
      "source": [
        "**Q9) Generate a Pandas DataFrame and filter rows where a column value is greater than a threshold.**"
      ],
      "metadata": {
        "id": "6nlF6hahwgfC"
      }
    },
    {
      "cell_type": "code",
      "source": [
        "import pandas as pd\n",
        "\n",
        "data = { \"Name\" : [\"Adarsh\",\"Balu\",\"Rahul\",\"Sam\",\"Neha\"],\n",
        "        \"Marks\": [78, 89, 99, 95, 67]}\n",
        "\n",
        "df = pd.DataFrame(data)\n",
        "\n",
        "filtered_df = df[df['Marks'] > 70]\n",
        "\n",
        "print(filtered_df)"
      ],
      "metadata": {
        "id": "k_9oEFRLpA_M",
        "colab": {
          "base_uri": "https://localhost:8080/"
        },
        "outputId": "849fdb6c-09c9-42c0-81a4-fe9ec27e85e2"
      },
      "execution_count": null,
      "outputs": [
        {
          "output_type": "stream",
          "name": "stdout",
          "text": [
            "     Name  Marks\n",
            "0  Adarsh     78\n",
            "1    Balu     89\n",
            "2   Rahul     99\n",
            "3     Sam     95\n"
          ]
        }
      ]
    },
    {
      "cell_type": "markdown",
      "source": [
        "**Q10) Create a histogram using Seaborn to visualize a distribution.**"
      ],
      "metadata": {
        "id": "9YCDzVt7xwO4"
      }
    },
    {
      "cell_type": "code",
      "source": [
        "import seaborn as sns\n",
        "import numpy as np\n",
        "import matplotlib.pyplot as plt\n",
        "\n",
        "random_list = np.random.randint(1,100,size=50)\n",
        "\n",
        "sns.histplot(random_list,bins=10,color=\"cyan\")\n",
        "\n",
        "plt.title('Sample Histogram')\n",
        "plt.xlabel('Value')\n",
        "plt.ylabel('Frequency')\n",
        "plt.grid()\n",
        "plt.show()"
      ],
      "metadata": {
        "colab": {
          "base_uri": "https://localhost:8080/",
          "height": 472
        },
        "id": "1o_MrAGgxyZ7",
        "outputId": "98131421-1db1-48f2-b5a0-365cb3090153"
      },
      "execution_count": null,
      "outputs": [
        {
          "output_type": "display_data",
          "data": {
            "text/plain": [
              "<Figure size 640x480 with 1 Axes>"
            ],
            "image/png": "[encoded data removed]"
          },
          "metadata": {}
        }
      ]
    },
    {
      "cell_type": "markdown",
      "source": [
        "**Q11) Perform matrix multiplication using NumPy.**"
      ],
      "metadata": {
        "id": "mTkqDKTxz2cE"
      }
    },
    {
      "cell_type": "code",
      "source": [
        "import numpy as np\n",
        "\n",
        "array1 = np.array([[1, 2, 3],\n",
        "                   [4, 5, 6],\n",
        "                   [7, 8, 9]])\n",
        "\n",
        "array2 = np.array([[9, 8, 7],\n",
        "                   [6, 5, 4],\n",
        "                   [3, 2, 1]])\n",
        "\n",
        "mul_result = array1@array2\n",
        "\n",
        "print(\"Matrix Multiplication:\\n\",mul_result)"
      ],
      "metadata": {
        "colab": {
          "base_uri": "https://localhost:8080/"
        },
        "id": "Txr4Wc1ez8Kn",
        "outputId": "4fac5e5d-7303-4118-fdc1-44f880af6ee8"
      },
      "execution_count": null,
      "outputs": [
        {
          "output_type": "stream",
          "name": "stdout",
          "text": [
            "Matrix Multiplication:\n",
            " [[ 30  24  18]\n",
            " [ 84  69  54]\n",
            " [138 114  90]]\n"
          ]
        }
      ]
    },
    {
      "cell_type": "markdown",
      "source": [
        "**Q12)  Use Pandas to load a CSV file and display its first 5 rows.**"
      ],
      "metadata": {
        "id": "tgYeLDA50bLZ"
      }
    },
    {
      "cell_type": "code",
      "source": [
        "import pandas as pd\n",
        "\n",
        "data = pd.read_csv(\"Bank_churn.csv\")\n",
        "\n",
        "df = pd.DataFrame(data)\n",
        "df.head()"
      ],
      "metadata": {
        "colab": {
          "base_uri": "https://localhost:8080/",
          "height": 226
        },
        "id": "zDLK7jcP0X_B",
        "outputId": "597c2e6f-a084-4e4e-99bf-616f6e266dab"
      },
      "execution_count": null,
      "outputs": [
        {
          "output_type": "execute_result",
          "data": {
            "text/plain": [
              "   RowNumber  CustomerId   Surname  CreditScore Geography  Gender  Age  \\\n",
              "0          1    15634602  Hargrave          619    France  Female   42   \n",
              "1          2    15647311      Hill          608     Spain  Female   41   \n",
              "2          3    15619304      Onio          502    France  Female   42   \n",
              "3          4    15701354      Boni          699    France  Female   39   \n",
              "4          5    15737888  Mitchell          850     Spain  Female   43   \n",
              "\n",
              "   Tenure    Balance  NumOfProducts  HasCrCard  IsActiveMember  \\\n",
              "0       2       0.00              1          1               1   \n",
              "1       1   83807.86              1          0               1   \n",
              "2       8  159660.80              3          1               0   \n",
              "3       1       0.00              2          0               0   \n",
              "4       2  125510.82              1          1               1   \n",
              "\n",
              "   EstimatedSalary  Exited  \n",
              "0        101348.88       1  \n",
              "1        112542.58       0  \n",
              "2        113931.57       1  \n",
              "3         93826.63       0  \n",
              "4         79084.10       0  "
            ],
            "text/html": [
              "\n",
              "  <div id=\"df-b5f8b0c3-5957-4e95-85a2-42d572babe60\" class=\"colab-df-container\">\n",
              "    <div>\n",
              "<style scoped>\n",
              "    .dataframe tbody tr th:only-of-type {\n",
              "        vertical-align: middle;\n",
              "    }\n",
              "\n",
              "    .dataframe tbody tr th {\n",
              "        vertical-align: top;\n",
              "    }\n",
              "\n",
              "    .dataframe thead th {\n",
              "        text-align: right;\n",
              "    }\n",
              "</style>\n",
              "<table border=\"1\" class=\"dataframe\">\n",
              "  <thead>\n",
              "    <tr style=\"text-align: right;\">\n",
              "      <th></th>\n",
              "      <th>RowNumber</th>\n",
              "      <th>CustomerId</th>\n",
              "      <th>Surname</th>\n",
              "      <th>CreditScore</th>\n",
              "      <th>Geography</th>\n",
              "      <th>Gender</th>\n",
              "      <th>Age</th>\n",
              "      <th>Tenure</th>\n",
              "      <th>Balance</th>\n",
              "      <th>NumOfProducts</th>\n",
              "      <th>HasCrCard</th>\n",
              "      <th>IsActiveMember</th>\n",
              "      <th>EstimatedSalary</th>\n",
              "      <th>Exited</th>\n",
              "    </tr>\n",
              "  </thead>\n",
              "  <tbody>\n",
              "    <tr>\n",
              "      <th>0</th>\n",
              "      <td>1</td>\n",
              "      <td>15634602</td>\n",
              "      <td>Hargrave</td>\n",
              "      <td>619</td>\n",
              "      <td>France</td>\n",
              "      <td>Female</td>\n",
              "      <td>42</td>\n",
              "      <td>2</td>\n",
              "      <td>0.00</td>\n",
              "      <td>1</td>\n",
              "      <td>1</td>\n",
              "      <td>1</td>\n",
              "      <td>101348.88</td>\n",
              "      <td>1</td>\n",
              "    </tr>\n",
              "    <tr>\n",
              "      <th>1</th>\n",
              "      <td>2</td>\n",
              "      <td>15647311</td>\n",
              "      <td>Hill</td>\n",
              "      <td>608</td>\n",
              "      <td>Spain</td>\n",
              "      <td>Female</td>\n",
              "      <td>41</td>\n",
              "      <td>1</td>\n",
              "      <td>83807.86</td>\n",
              "      <td>1</td>\n",
              "      <td>0</td>\n",
              "      <td>1</td>\n",
              "      <td>112542.58</td>\n",
              "      <td>0</td>\n",
              "    </tr>\n",
              "    <tr>\n",
              "      <th>2</th>\n",
              "      <td>3</td>\n",
              "      <td>15619304</td>\n",
              "      <td>Onio</td>\n",
              "      <td>502</td>\n",
              "      <td>France</td>\n",
              "      <td>Female</td>\n",
              "      <td>42</td>\n",
              "      <td>8</td>\n",
              "      <td>159660.80</td>\n",
              "      <td>3</td>\n",
              "      <td>1</td>\n",
              "      <td>0</td>\n",
              "      <td>113931.57</td>\n",
              "      <td>1</td>\n",
              "    </tr>\n",
              "    <tr>\n",
              "      <th>3</th>\n",
              "      <td>4</td>\n",
              "      <td>15701354</td>\n",
              "      <td>Boni</td>\n",
              "      <td>699</td>\n",
              "      <td>France</td>\n",
              "      <td>Female</td>\n",
              "      <td>39</td>\n",
              "      <td>1</td>\n",
              "      <td>0.00</td>\n",
              "      <td>2</td>\n",
              "      <td>0</td>\n",
              "      <td>0</td>\n",
              "      <td>93826.63</td>\n",
              "      <td>0</td>\n",
              "    </tr>\n",
              "    <tr>\n",
              "      <th>4</th>\n",
              "      <td>5</td>\n",
              "      <td>15737888</td>\n",
              "      <td>Mitchell</td>\n",
              "      <td>850</td>\n",
              "      <td>Spain</td>\n",
              "      <td>Female</td>\n",
              "      <td>43</td>\n",
              "      <td>2</td>\n",
              "      <td>125510.82</td>\n",
              "      <td>1</td>\n",
              "      <td>1</td>\n",
              "      <td>1</td>\n",
              "      <td>79084.10</td>\n",
              "      <td>0</td>\n",
              "    </tr>\n",
              "  </tbody>\n",
              "</table>\n",
              "</div>\n",
              "    <div class=\"colab-df-buttons\">\n",
              "\n",
              "  <div class=\"colab-df-container\">\n",
              "    <button class=\"colab-df-convert\" onclick=\"convertToInteractive('df-b5f8b0c3-5957-4e95-85a2-42d572babe60')\"\n",
              "            title=\"Convert this dataframe to an interactive table.\"\n",
              "            style=\"display:none;\">\n",
              "\n",
              "  <svg xmlns=\"http://www.w3.org/2000/svg\" height=\"24px\" viewBox=\"0 -960 960 960\">\n",
              "    <path d=\"M120-120v-720h720v720H120Zm60-500h600v-160H180v160Zm220 220h160v-160H400v160Zm0 220h160v-160H400v160ZM180-400h160v-160H180v160Zm440 0h160v-160H620v160ZM180-180h160v-160H180v160Zm440 0h160v-160H620v160Z\"/>\n",
              "  </svg>\n",
              "    </button>\n",
              "\n",
              "  <style>\n",
              "    .colab-df-container {\n",
              "      display:flex;\n",
              "      gap: 12px;\n",
              "    }\n",
              "\n",
              "    .colab-df-convert {\n",
              "      background-color: #E8F0FE;\n",
              "      border: none;\n",
              "      border-radius: 50%;\n",
              "      cursor: pointer;\n",
              "      display: none;\n",
              "      fill: #1967D2;\n",
              "      height: 32px;\n",
              "      padding: 0 0 0 0;\n",
              "      width: 32px;\n",
              "    }\n",
              "\n",
              "    .colab-df-convert:hover {\n",
              "      background-color: #E2EBFA;\n",
              "      box-shadow: 0px 1px 2px rgba(60, 64, 67, 0.3), 0px 1px 3px 1px rgba(60, 64, 67, 0.15);\n",
              "      fill: #174EA6;\n",
              "    }\n",
              "\n",
              "    .colab-df-buttons div {\n",
              "      margin-bottom: 4px;\n",
              "    }\n",
              "\n",
              "    [theme=dark] .colab-df-convert {\n",
              "      background-color: #3B4455;\n",
              "      fill: #D2E3FC;\n",
              "    }\n",
              "\n",
              "    [theme=dark] .colab-df-convert:hover {\n",
              "      background-color: #434B5C;\n",
              "      box-shadow: 0px 1px 3px 1px rgba(0, 0, 0, 0.15);\n",
              "      filter: drop-shadow(0px 1px 2px rgba(0, 0, 0, 0.3));\n",
              "      fill: #FFFFFF;\n",
              "    }\n",
              "  </style>\n",
              "\n",
              "    <script>\n",
              "      const buttonEl =\n",
              "        document.querySelector('#df-b5f8b0c3-5957-4e95-85a2-42d572babe60 button.colab-df-convert');\n",
              "      buttonEl.style.display =\n",
              "        google.colab.kernel.accessAllowed ? 'block' : 'none';\n",
              "\n",
              "      async function convertToInteractive(key) {\n",
              "        const element = document.querySelector('#df-b5f8b0c3-5957-4e95-85a2-42d572babe60');\n",
              "        const dataTable =\n",
              "          await google.colab.kernel.invokeFunction('convertToInteractive',\n",
              "                                                    [key], {});\n",
              "        if (!dataTable) return;\n",
              "\n",
              "        const docLinkHtml = 'Like what you see? Visit the ' +\n",
              "          '<a target=\"_blank\" href=https://colab.research.google.com/notebooks/data_table.ipynb>data table notebook</a>'\n",
              "          + ' to learn more about interactive tables.';\n",
              "        element.innerHTML = '';\n",
              "        dataTable['output_type'] = 'display_data';\n",
              "        await google.colab.output.renderOutput(dataTable, element);\n",
              "        const docLink = document.createElement('div');\n",
              "        docLink.innerHTML = docLinkHtml;\n",
              "        element.appendChild(docLink);\n",
              "      }\n",
              "    </script>\n",
              "  </div>\n",
              "\n",
              "\n",
              "    <div id=\"df-400bba7d-0a05-4480-90d1-6bbffa82fe3d\">\n",
              "      <button class=\"colab-df-quickchart\" onclick=\"quickchart('df-400bba7d-0a05-4480-90d1-6bbffa82fe3d')\"\n",
              "                title=\"Suggest charts\"\n",
              "                style=\"display:none;\">\n",
              "\n",
              "<svg xmlns=\"http://www.w3.org/2000/svg\" height=\"24px\"viewBox=\"0 0 24 24\"\n",
              "     width=\"24px\">\n",
              "    <g>\n",
              "        <path d=\"M19 3H5c-1.1 0-2 .9-2 2v14c0 1.1.9 2 2 2h14c1.1 0 2-.9 2-2V5c0-1.1-.9-2-2-2zM9 17H7v-7h2v7zm4 0h-2V7h2v10zm4 0h-2v-4h2v4z\"/>\n",
              "    </g>\n",
              "</svg>\n",
              "      </button>\n",
              "\n",
              "<style>\n",
              "  .colab-df-quickchart {\n",
              "      --bg-color: #E8F0FE;\n",
              "      --fill-color: #1967D2;\n",
              "      --hover-bg-color: #E2EBFA;\n",
              "      --hover-fill-color: #174EA6;\n",
              "      --disabled-fill-color: #AAA;\n",
              "      --disabled-bg-color: #DDD;\n",
              "  }\n",
              "\n",
              "  [theme=dark] .colab-df-quickchart {\n",
              "      --bg-color: #3B4455;\n",
              "      --fill-color: #D2E3FC;\n",
              "      --hover-bg-color: #434B5C;\n",
              "      --hover-fill-color: #FFFFFF;\n",
              "      --disabled-bg-color: #3B4455;\n",
              "      --disabled-fill-color: #666;\n",
              "  }\n",
              "\n",
              "  .colab-df-quickchart {\n",
              "    background-color: var(--bg-color);\n",
              "    border: none;\n",
              "    border-radius: 50%;\n",
              "    cursor: pointer;\n",
              "    display: none;\n",
              "    fill: var(--fill-color);\n",
              "    height: 32px;\n",
              "    padding: 0;\n",
              "    width: 32px;\n",
              "  }\n",
              "\n",
              "  .colab-df-quickchart:hover {\n",
              "    background-color: var(--hover-bg-color);\n",
              "    box-shadow: 0 1px 2px rgba(60, 64, 67, 0.3), 0 1px 3px 1px rgba(60, 64, 67, 0.15);\n",
              "    fill: var(--button-hover-fill-color);\n",
              "  }\n",
              "\n",
              "  .colab-df-quickchart-complete:disabled,\n",
              "  .colab-df-quickchart-complete:disabled:hover {\n",
              "    background-color: var(--disabled-bg-color);\n",
              "    fill: var(--disabled-fill-color);\n",
              "    box-shadow: none;\n",
              "  }\n",
              "\n",
              "  .colab-df-spinner {\n",
              "    border: 2px solid var(--fill-color);\n",
              "    border-color: transparent;\n",
              "    border-bottom-color: var(--fill-color);\n",
              "    animation:\n",
              "      spin 1s steps(1) infinite;\n",
              "  }\n",
              "\n",
              "  @keyframes spin {\n",
              "    0% {\n",
              "      border-color: transparent;\n",
              "      border-bottom-color: var(--fill-color);\n",
              "      border-left-color: var(--fill-color);\n",
              "    }\n",
              "    20% {\n",
              "      border-color: transparent;\n",
              "      border-left-color: var(--fill-color);\n",
              "      border-top-color: var(--fill-color);\n",
              "    }\n",
              "    30% {\n",
              "      border-color: transparent;\n",
              "      border-left-color: var(--fill-color);\n",
              "      border-top-color: var(--fill-color);\n",
              "      border-right-color: var(--fill-color);\n",
              "    }\n",
              "    40% {\n",
              "      border-color: transparent;\n",
              "      border-right-color: var(--fill-color);\n",
              "      border-top-color: var(--fill-color);\n",
              "    }\n",
              "    60% {\n",
              "      border-color: transparent;\n",
              "      border-right-color: var(--fill-color);\n",
              "    }\n",
              "    80% {\n",
              "      border-color: transparent;\n",
              "      border-right-color: var(--fill-color);\n",
              "      border-bottom-color: var(--fill-color);\n",
              "    }\n",
              "    90% {\n",
              "      border-color: transparent;\n",
              "      border-bottom-color: var(--fill-color);\n",
              "    }\n",
              "  }\n",
              "</style>\n",
              "\n",
              "      <script>\n",
              "        async function quickchart(key) {\n",
              "          const quickchartButtonEl =\n",
              "            document.querySelector('#' + key + ' button');\n",
              "          quickchartButtonEl.disabled = true;  // To prevent multiple clicks.\n",
              "          quickchartButtonEl.classList.add('colab-df-spinner');\n",
              "          try {\n",
              "            const charts = await google.colab.kernel.invokeFunction(\n",
              "                'suggestCharts', [key], {});\n",
              "          } catch (error) {\n",
              "            console.error('Error during call to suggestCharts:', error);\n",
              "          }\n",
              "          quickchartButtonEl.classList.remove('colab-df-spinner');\n",
              "          quickchartButtonEl.classList.add('colab-df-quickchart-complete');\n",
              "        }\n",
              "        (() => {\n",
              "          let quickchartButtonEl =\n",
              "            document.querySelector('#df-400bba7d-0a05-4480-90d1-6bbffa82fe3d button');\n",
              "          quickchartButtonEl.style.display =\n",
              "            google.colab.kernel.accessAllowed ? 'block' : 'none';\n",
              "        })();\n",
              "      </script>\n",
              "    </div>\n",
              "\n",
              "    </div>\n",
              "  </div>\n"
            ],
            "application/vnd.google.colaboratory.intrinsic+json": {
              "type": "dataframe",
              "variable_name": "df",
              "summary": "{\n  \"name\": \"df\",\n  \"rows\": 10000,\n  \"fields\": [\n    {\n      \"column\": \"RowNumber\",\n      \"properties\": {\n        \"dtype\": \"number\",\n        \"std\": 2886,\n        \"min\": 1,\n        \"max\": 10000,\n        \"num_unique_values\": 10000,\n        \"samples\": [\n          6253,\n          4685,\n          1732\n        ],\n        \"semantic_type\": \"\",\n        \"description\": \"\"\n      }\n    },\n    {\n      \"column\": \"CustomerId\",\n      \"properties\": {\n        \"dtype\": \"number\",\n        \"std\": 71936,\n        \"min\": 15565701,\n        \"max\": 15815690,\n        \"num_unique_values\": 10000,\n        \"samples\": [\n          15687492,\n          15736963,\n          15721730\n        ],\n        \"semantic_type\": \"\",\n        \"description\": \"\"\n      }\n    },\n    {\n      \"column\": \"Surname\",\n      \"properties\": {\n        \"dtype\": \"category\",\n        \"num_unique_values\": 2932,\n        \"samples\": [\n          \"McGuirk\",\n          \"Torkelson\",\n          \"Rapuluchukwu\"\n        ],\n        \"semantic_type\": \"\",\n        \"description\": \"\"\n      }\n    },\n    {\n      \"column\": \"CreditScore\",\n      \"properties\": {\n        \"dtype\": \"number\",\n        \"std\": 96,\n        \"min\": 350,\n        \"max\": 850,\n        \"num_unique_values\": 460,\n        \"samples\": [\n          754,\n          533,\n          744\n        ],\n        \"semantic_type\": \"\",\n        \"description\": \"\"\n      }\n    },\n    {\n      \"column\": \"Geography\",\n      \"properties\": {\n        \"dtype\": \"category\",\n        \"num_unique_values\": 3,\n        \"samples\": [\n          \"France\",\n          \"Spain\",\n          \"Germany\"\n        ],\n        \"semantic_type\": \"\",\n        \"description\": \"\"\n      }\n    },\n    {\n      \"column\": \"Gender\",\n      \"properties\": {\n        \"dtype\": \"category\",\n        \"num_unique_values\": 2,\n        \"samples\": [\n          \"Male\",\n          \"Female\"\n        ],\n        \"semantic_type\": \"\",\n        \"description\": \"\"\n      }\n    },\n    {\n      \"column\": \"Age\",\n      \"properties\": {\n        \"dtype\": \"number\",\n        \"std\": 10,\n        \"min\": 18,\n        \"max\": 92,\n        \"num_unique_values\": 70,\n        \"samples\": [\n          61,\n          42\n        ],\n        \"semantic_type\": \"\",\n        \"description\": \"\"\n      }\n    },\n    {\n      \"column\": \"Tenure\",\n      \"properties\": {\n        \"dtype\": \"number\",\n        \"std\": 2,\n        \"min\": 0,\n        \"max\": 10,\n        \"num_unique_values\": 11,\n        \"samples\": [\n          6,\n          2\n        ],\n        \"semantic_type\": \"\",\n        \"description\": \"\"\n      }\n    },\n    {\n      \"column\": \"Balance\",\n      \"properties\": {\n        \"dtype\": \"number\",\n        \"std\": 62397.40520238623,\n        \"min\": 0.0,\n        \"max\": 250898.09,\n        \"num_unique_values\": 6382,\n        \"samples\": [\n          117707.18,\n          133050.97\n        ],\n        \"semantic_type\": \"\",\n        \"description\": \"\"\n      }\n    },\n    {\n      \"column\": \"NumOfProducts\",\n      \"properties\": {\n        \"dtype\": \"number\",\n        \"std\": 0,\n        \"min\": 1,\n        \"max\": 4,\n        \"num_unique_values\": 4,\n        \"samples\": [\n          3,\n          4\n        ],\n        \"semantic_type\": \"\",\n        \"description\": \"\"\n      }\n    },\n    {\n      \"column\": \"HasCrCard\",\n      \"properties\": {\n        \"dtype\": \"number\",\n        \"std\": 0,\n        \"min\": 0,\n        \"max\": 1,\n        \"num_unique_values\": 2,\n        \"samples\": [\n          0,\n          1\n        ],\n        \"semantic_type\": \"\",\n        \"description\": \"\"\n      }\n    },\n    {\n      \"column\": \"IsActiveMember\",\n      \"properties\": {\n        \"dtype\": \"number\",\n        \"std\": 0,\n        \"min\": 0,\n        \"max\": 1,\n        \"num_unique_values\": 2,\n        \"samples\": [\n          0,\n          1\n        ],\n        \"semantic_type\": \"\",\n        \"description\": \"\"\n      }\n    },\n    {\n      \"column\": \"EstimatedSalary\",\n      \"properties\": {\n        \"dtype\": \"number\",\n        \"std\": 57510.49281769822,\n        \"min\": 11.58,\n        \"max\": 199992.48,\n        \"num_unique_values\": 9999,\n        \"samples\": [\n          100809.99,\n          95273.73\n        ],\n        \"semantic_type\": \"\",\n        \"description\": \"\"\n      }\n    },\n    {\n      \"column\": \"Exited\",\n      \"properties\": {\n        \"dtype\": \"number\",\n        \"std\": 0,\n        \"min\": 0,\n        \"max\": 1,\n        \"num_unique_values\": 2,\n        \"samples\": [\n          0,\n          1\n        ],\n        \"semantic_type\": \"\",\n        \"description\": \"\"\n      }\n    }\n  ]\n}"
            }
          },
          "metadata": {},
          "execution_count": 49
        }
      ]
    },
    {
      "cell_type": "markdown",
      "source": [
        "**Q13) Create a 3D scatter plot using Plotly.**"
      ],
      "metadata": {
        "id": "0QM0kO_EiAzw"
      }
    },
    {
      "cell_type": "code",
      "source": [
        "import plotly.graph_objects as go\n",
        "import numpy as np\n",
        "import matplotlib.pyplot as plt\n",
        "\n",
        "\n",
        "x = np.random.randint(1,100,size=50)\n",
        "y = np.random.randint(1,100,size=50)\n",
        "z= np.random.randint(1,100,size=50)\n",
        "\n",
        "fig = go.Figure(data=[go.Scatter3d(x=x,y=y,z=z,mode=\"markers\")])\n",
        "\n",
        "fig.update_layout(title='Sample 3d Scatter Graph')\n",
        "\n",
        "fig.show()"
      ],
      "metadata": {
        "colab": {
          "base_uri": "https://localhost:8080/",
          "height": 542
        },
        "id": "FLKSJdz4iDzg",
        "outputId": "1639534d-9467-40d2-9fe5-f557b12a084a"
      },
      "execution_count": null,
      "outputs": [
        {
          "output_type": "display_data",
          "data": {
            "text/html": [
              "<html>\n",
              "<head><meta charset=\"utf-8\" /></head>\n",
              "<body>\n",
              "    <div>            <script src=\"https://cdnjs.cloudflare.com/ajax/libs/mathjax/2.7.5/MathJax.js?config=TeX-AMS-MML_SVG\"></script><script type=\"text/javascript\">if (window.MathJax && window.MathJax.Hub && window.MathJax.Hub.Config) {window.MathJax.Hub.Config({SVG: {font: \"STIX-Web\"}});}</script>                <script type=\"text/javascript\">window.PlotlyConfig = {MathJaxConfig: 'local'};</script>\n",
              "        <script charset=\"utf-8\" src=\"https://cdn.plot.ly/plotly-2.35.2.min.js\"></script>                <div id=\"89b21850-ae63-4844-b598-0e873257479a\" class=\"plotly-graph-div\" style=\"height:525px; width:100%;\"></div>            <script type=\"text/javascript\">                                    window.PLOTLYENV=window.PLOTLYENV || {};                                    if (document.getElementById(\"89b21850-ae63-4844-b598-0e873257479a\")) {                    Plotly.newPlot(                        \"89b21850-ae63-4844-b598-0e873257479a\",                        [{\"mode\":\"markers\",\"x\":[44,45,47,13,22,21,86,92,9,26,9,15,10,88,42,72,24,80,49,26,91,37,68,50,24,19,60,39,74,89,18,19,36,74,97,55,69,47,49,99,98,33,21,81,22,48,37,15,35,92],\"y\":[71,32,11,10,73,78,77,57,25,2,64,35,7,85,18,67,42,39,41,75,24,60,46,19,68,90,42,32,39,36,97,36,3,73,8,97,70,41,68,13,49,60,2,60,5,44,27,32,21,8],\"z\":[72,50,67,44,58,3,86,70,2,87,44,2,81,35,98,87,30,8,22,44,58,36,69,77,93,31,47,55,80,62,30,55,16,12,17,16,12,8,84,3,16,30,23,92,5,84,65,30,21,84],\"type\":\"scatter3d\"}],                        {\"template\":{\"data\":{\"histogram2dcontour\":[{\"type\":\"histogram2dcontour\",\"colorbar\":{\"outlinewidth\":0,\"ticks\":\"\"},\"colorscale\":[[0.0,\"#0d0887\"],[0.1111111111111111,\"#46039f\"],[0.2222222222222222,\"#7201a8\"],[0.3333333333333333,\"#9c179e\"],[0.4444444444444444,\"#bd3786\"],[0.5555555555555556,\"#d8576b\"],[0.6666666666666666,\"#ed7953\"],[0.7777777777777778,\"#fb9f3a\"],[0.8888888888888888,\"#fdca26\"],[1.0,\"#f0f921\"]]}],\"choropleth\":[{\"type\":\"choropleth\",\"colorbar\":{\"outlinewidth\":0,\"ticks\":\"\"}}],\"histogram2d\":[{\"type\":\"histogram2d\",\"colorbar\":{\"outlinewidth\":0,\"ticks\":\"\"},\"colorscale\":[[0.0,\"#0d0887\"],[0.1111111111111111,\"#46039f\"],[0.2222222222222222,\"#7201a8\"],[0.3333333333333333,\"#9c179e\"],[0.4444444444444444,\"#bd3786\"],[0.5555555555555556,\"#d8576b\"],[0.6666666666666666,\"#ed7953\"],[0.7777777777777778,\"#fb9f3a\"],[0.8888888888888888,\"#fdca26\"],[1.0,\"#f0f921\"]]}],\"heatmap\":[{\"type\":\"heatmap\",\"colorbar\":{\"outlinewidth\":0,\"ticks\":\"\"},\"colorscale\":[[0.0,\"#0d0887\"],[0.1111111111111111,\"#46039f\"],[0.2222222222222222,\"#7201a8\"],[0.3333333333333333,\"#9c179e\"],[0.4444444444444444,\"#bd3786\"],[0.5555555555555556,\"#d8576b\"],[0.6666666666666666,\"#ed7953\"],[0.7777777777777778,\"#fb9f3a\"],[0.8888888888888888,\"#fdca26\"],[1.0,\"#f0f921\"]]}],\"heatmapgl\":[{\"type\":\"heatmapgl\",\"colorbar\":{\"outlinewidth\":0,\"ticks\":\"\"},\"colorscale\":[[0.0,\"#0d0887\"],[0.1111111111111111,\"#46039f\"],[0.2222222222222222,\"#7201a8\"],[0.3333333333333333,\"#9c179e\"],[0.4444444444444444,\"#bd3786\"],[0.5555555555555556,\"#d8576b\"],[0.6666666666666666,\"#ed7953\"],[0.7777777777777778,\"#fb9f3a\"],[0.8888888888888888,\"#fdca26\"],[1.0,\"#f0f921\"]]}],\"contourcarpet\":[{\"type\":\"contourcarpet\",\"colorbar\":{\"outlinewidth\":0,\"ticks\":\"\"}}],\"contour\":[{\"type\":\"contour\",\"colorbar\":{\"outlinewidth\":0,\"ticks\":\"\"},\"colorscale\":[[0.0,\"#0d0887\"],[0.1111111111111111,\"#46039f\"],[0.2222222222222222,\"#7201a8\"],[0.3333333333333333,\"#9c179e\"],[0.4444444444444444,\"#bd3786\"],[0.5555555555555556,\"#d8576b\"],[0.6666666666666666,\"#ed7953\"],[0.7777777777777778,\"#fb9f3a\"],[0.8888888888888888,\"#fdca26\"],[1.0,\"#f0f921\"]]}],\"surface\":[{\"type\":\"surface\",\"colorbar\":{\"outlinewidth\":0,\"ticks\":\"\"},\"colorscale\":[[0.0,\"#0d0887\"],[0.1111111111111111,\"#46039f\"],[0.2222222222222222,\"#7201a8\"],[0.3333333333333333,\"#9c179e\"],[0.4444444444444444,\"#bd3786\"],[0.5555555555555556,\"#d8576b\"],[0.6666666666666666,\"#ed7953\"],[0.7777777777777778,\"#fb9f3a\"],[0.8888888888888888,\"#fdca26\"],[1.0,\"#f0f921\"]]}],\"mesh3d\":[{\"type\":\"mesh3d\",\"colorbar\":{\"outlinewidth\":0,\"ticks\":\"\"}}],\"scatter\":[{\"fillpattern\":{\"fillmode\":\"overlay\",\"size\":10,\"solidity\":0.2},\"type\":\"scatter\"}],\"parcoords\":[{\"type\":\"parcoords\",\"line\":{\"colorbar\":{\"outlinewidth\":0,\"ticks\":\"\"}}}],\"scatterpolargl\":[{\"type\":\"scatterpolargl\",\"marker\":{\"colorbar\":{\"outlinewidth\":0,\"ticks\":\"\"}}}],\"bar\":[{\"error_x\":{\"color\":\"#2a3f5f\"},\"error_y\":{\"color\":\"#2a3f5f\"},\"marker\":{\"line\":{\"color\":\"#E5ECF6\",\"width\":0.5},\"pattern\":{\"fillmode\":\"overlay\",\"size\":10,\"solidity\":0.2}},\"type\":\"bar\"}],\"scattergeo\":[{\"type\":\"scattergeo\",\"marker\":{\"colorbar\":{\"outlinewidth\":0,\"ticks\":\"\"}}}],\"scatterpolar\":[{\"type\":\"scatterpolar\",\"marker\":{\"colorbar\":{\"outlinewidth\":0,\"ticks\":\"\"}}}],\"histogram\":[{\"marker\":{\"pattern\":{\"fillmode\":\"overlay\",\"size\":10,\"solidity\":0.2}},\"type\":\"histogram\"}],\"scattergl\":[{\"type\":\"scattergl\",\"marker\":{\"colorbar\":{\"outlinewidth\":0,\"ticks\":\"\"}}}],\"scatter3d\":[{\"type\":\"scatter3d\",\"line\":{\"colorbar\":{\"outlinewidth\":0,\"ticks\":\"\"}},\"marker\":{\"colorbar\":{\"outlinewidth\":0,\"ticks\":\"\"}}}],\"scattermapbox\":[{\"type\":\"scattermapbox\",\"marker\":{\"colorbar\":{\"outlinewidth\":0,\"ticks\":\"\"}}}],\"scatterternary\":[{\"type\":\"scatterternary\",\"marker\":{\"colorbar\":{\"outlinewidth\":0,\"ticks\":\"\"}}}],\"scattercarpet\":[{\"type\":\"scattercarpet\",\"marker\":{\"colorbar\":{\"outlinewidth\":0,\"ticks\":\"\"}}}],\"carpet\":[{\"aaxis\":{\"endlinecolor\":\"#2a3f5f\",\"gridcolor\":\"white\",\"linecolor\":\"white\",\"minorgridcolor\":\"white\",\"startlinecolor\":\"#2a3f5f\"},\"baxis\":{\"endlinecolor\":\"#2a3f5f\",\"gridcolor\":\"white\",\"linecolor\":\"white\",\"minorgridcolor\":\"white\",\"startlinecolor\":\"#2a3f5f\"},\"type\":\"carpet\"}],\"table\":[{\"cells\":{\"fill\":{\"color\":\"#EBF0F8\"},\"line\":{\"color\":\"white\"}},\"header\":{\"fill\":{\"color\":\"#C8D4E3\"},\"line\":{\"color\":\"white\"}},\"type\":\"table\"}],\"barpolar\":[{\"marker\":{\"line\":{\"color\":\"#E5ECF6\",\"width\":0.5},\"pattern\":{\"fillmode\":\"overlay\",\"size\":10,\"solidity\":0.2}},\"type\":\"barpolar\"}],\"pie\":[{\"automargin\":true,\"type\":\"pie\"}]},\"layout\":{\"autotypenumbers\":\"strict\",\"colorway\":[\"#636efa\",\"#EF553B\",\"#00cc96\",\"#ab63fa\",\"#FFA15A\",\"#19d3f3\",\"#FF6692\",\"#B6E880\",\"#FF97FF\",\"#FECB52\"],\"font\":{\"color\":\"#2a3f5f\"},\"hovermode\":\"closest\",\"hoverlabel\":{\"align\":\"left\"},\"paper_bgcolor\":\"white\",\"plot_bgcolor\":\"#E5ECF6\",\"polar\":{\"bgcolor\":\"#E5ECF6\",\"angularaxis\":{\"gridcolor\":\"white\",\"linecolor\":\"white\",\"ticks\":\"\"},\"radialaxis\":{\"gridcolor\":\"white\",\"linecolor\":\"white\",\"ticks\":\"\"}},\"ternary\":{\"bgcolor\":\"#E5ECF6\",\"aaxis\":{\"gridcolor\":\"white\",\"linecolor\":\"white\",\"ticks\":\"\"},\"baxis\":{\"gridcolor\":\"white\",\"linecolor\":\"white\",\"ticks\":\"\"},\"caxis\":{\"gridcolor\":\"white\",\"linecolor\":\"white\",\"ticks\":\"\"}},\"coloraxis\":{\"colorbar\":{\"outlinewidth\":0,\"ticks\":\"\"}},\"colorscale\":{\"sequential\":[[0.0,\"#0d0887\"],[0.1111111111111111,\"#46039f\"],[0.2222222222222222,\"#7201a8\"],[0.3333333333333333,\"#9c179e\"],[0.4444444444444444,\"#bd3786\"],[0.5555555555555556,\"#d8576b\"],[0.6666666666666666,\"#ed7953\"],[0.7777777777777778,\"#fb9f3a\"],[0.8888888888888888,\"#fdca26\"],[1.0,\"#f0f921\"]],\"sequentialminus\":[[0.0,\"#0d0887\"],[0.1111111111111111,\"#46039f\"],[0.2222222222222222,\"#7201a8\"],[0.3333333333333333,\"#9c179e\"],[0.4444444444444444,\"#bd3786\"],[0.5555555555555556,\"#d8576b\"],[0.6666666666666666,\"#ed7953\"],[0.7777777777777778,\"#fb9f3a\"],[0.8888888888888888,\"#fdca26\"],[1.0,\"#f0f921\"]],\"diverging\":[[0,\"#8e0152\"],[0.1,\"#c51b7d\"],[0.2,\"#de77ae\"],[0.3,\"#f1b6da\"],[0.4,\"#fde0ef\"],[0.5,\"#f7f7f7\"],[0.6,\"#e6f5d0\"],[0.7,\"#b8e186\"],[0.8,\"#7fbc41\"],[0.9,\"#4d9221\"],[1,\"#276419\"]]},\"xaxis\":{\"gridcolor\":\"white\",\"linecolor\":\"white\",\"ticks\":\"\",\"title\":{\"standoff\":15},\"zerolinecolor\":\"white\",\"automargin\":true,\"zerolinewidth\":2},\"yaxis\":{\"gridcolor\":\"white\",\"linecolor\":\"white\",\"ticks\":\"\",\"title\":{\"standoff\":15},\"zerolinecolor\":\"white\",\"automargin\":true,\"zerolinewidth\":2},\"scene\":{\"xaxis\":{\"backgroundcolor\":\"#E5ECF6\",\"gridcolor\":\"white\",\"linecolor\":\"white\",\"showbackground\":true,\"ticks\":\"\",\"zerolinecolor\":\"white\",\"gridwidth\":2},\"yaxis\":{\"backgroundcolor\":\"#E5ECF6\",\"gridcolor\":\"white\",\"linecolor\":\"white\",\"showbackground\":true,\"ticks\":\"\",\"zerolinecolor\":\"white\",\"gridwidth\":2},\"zaxis\":{\"backgroundcolor\":\"#E5ECF6\",\"gridcolor\":\"white\",\"linecolor\":\"white\",\"showbackground\":true,\"ticks\":\"\",\"zerolinecolor\":\"white\",\"gridwidth\":2}},\"shapedefaults\":{\"line\":{\"color\":\"#2a3f5f\"}},\"annotationdefaults\":{\"arrowcolor\":\"#2a3f5f\",\"arrowhead\":0,\"arrowwidth\":1},\"geo\":{\"bgcolor\":\"white\",\"landcolor\":\"#E5ECF6\",\"subunitcolor\":\"white\",\"showland\":true,\"showlakes\":true,\"lakecolor\":\"white\"},\"title\":{\"x\":0.05},\"mapbox\":{\"style\":\"light\"}}},\"title\":{\"text\":\"Sample 3d Scatter Graph\"}},                        {\"responsive\": true}                    ).then(function(){\n",
              "                            \n",
              "var gd = document.getElementById('89b21850-ae63-4844-b598-0e873257479a');\n",
              "var x = new MutationObserver(function (mutations, observer) {{\n",
              "        var display = window.getComputedStyle(gd).display;\n",
              "        if (!display || display === 'none') {{\n",
              "            console.log([gd, 'removed!']);\n",
              "            Plotly.purge(gd);\n",
              "            observer.disconnect();\n",
              "        }}\n",
              "}});\n",
              "\n",
              "// Listen for the removal of the full notebook cells\n",
              "var notebookContainer = gd.closest('#notebook-container');\n",
              "if (notebookContainer) {{\n",
              "    x.observe(notebookContainer, {childList: true});\n",
              "}}\n",
              "\n",
              "// Listen for the clearing of the current output cell\n",
              "var outputEl = gd.closest('.output');\n",
              "if (outputEl) {{\n",
              "    x.observe(outputEl, {childList: true});\n",
              "}}\n",
              "\n",
              "                        })                };                            </script>        </div>\n",
              "</body>\n",
              "</html>"
            ]
          },
          "metadata": {}
        }
      ]
    }
  ]
}